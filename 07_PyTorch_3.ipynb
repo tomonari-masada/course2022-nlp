{
  "nbformat": 4,
  "nbformat_minor": 0,
  "metadata": {
    "colab": {
      "provenance": [],
      "collapsed_sections": [],
      "mount_file_id": "1Ju5Lc6g45t9qjI0R2cFUAA1wHBFm2IeB",
      "authorship_tag": "ABX9TyMdNMeZW9NebunbEkrOrg4u",
      "include_colab_link": true
    },
    "kernelspec": {
      "name": "python3",
      "display_name": "Python 3"
    },
    "accelerator": "GPU"
  },
  "cells": [
    {
      "cell_type": "markdown",
      "metadata": {
        "id": "view-in-github",
        "colab_type": "text"
      },
      "source": [
        "<a href=\"https://colab.research.google.com/github/tomonari-masada/course2022-nlp/blob/main/07_PyTorch_3.ipynb\" target=\"_parent\"><img src=\"https://colab.research.google.com/assets/colab-badge.svg\" alt=\"Open In Colab\"/></a>"
      ]
    },
    {
      "cell_type": "markdown",
      "metadata": {
        "id": "2hx2zN0IvyqF"
      },
      "source": [
        "# PyTorch入門 (3)\n",
        "* IMDbデータセットの感情分析をPyTorchで実装する。\n",
        " * \b前にscikit-learnを使って同じ作業をおこなった。"
      ]
    },
    {
      "cell_type": "markdown",
      "source": [
        "## (A) fasttextの単語埋め込みを使ったモデル"
      ],
      "metadata": {
        "id": "KO5kH-ZrAxXS"
      }
    },
    {
      "cell_type": "markdown",
      "source": [
        "* データとしては、以前作ったIMDbの文書埋め込みを使う。\n",
        " * この文書埋め込みは、fasttextの単語埋め込みをもとに作られていた。"
      ],
      "metadata": {
        "id": "plLQVzcBA4Mz"
      }
    },
    {
      "cell_type": "markdown",
      "metadata": {
        "id": "S0n2qW-6tsNC"
      },
      "source": [
        "### 準備"
      ]
    },
    {
      "cell_type": "markdown",
      "metadata": {
        "id": "eAv8yYt8-Yn0"
      },
      "source": [
        "* あらかじめランタイムのタイプをGPUに設定しておこう。"
      ]
    },
    {
      "cell_type": "code",
      "metadata": {
        "id": "Mf-jw4S8rhTB"
      },
      "source": [
        "import time\n",
        "import numpy as np\n",
        "import torch\n",
        "import torch.nn as nn\n",
        "from torch.utils.data import Dataset, DataLoader, random_split\n",
        "\n",
        "np.random.seed(123)\n",
        "torch.manual_seed(123)\n",
        "\n",
        "device = torch.device(\"cuda\" if torch.cuda.is_available() else \"cpu\")"
      ],
      "execution_count": null,
      "outputs": []
    },
    {
      "cell_type": "code",
      "metadata": {
        "id": "ETpwV-Lmw-K5"
      },
      "source": [
        "device"
      ],
      "execution_count": null,
      "outputs": []
    },
    {
      "cell_type": "markdown",
      "source": [
        "### 事前にfasttextでベクトル化されたIMDbデータを読み込む\n",
        " * 下記のリンク先にある`.npy`ファイルを、あらかじめ自分のGoogle Driveの適当な場所に置いておく。\n",
        "  * https://drive.google.com/drive/folders/1wSoIzSbZ2UqGQowiVDBI20h_A3hQNbtV?usp=sharing"
      ],
      "metadata": {
        "id": "XlWnT50NEQfD"
      }
    },
    {
      "cell_type": "code",
      "metadata": {
        "id": "WjF1vzSosL5l"
      },
      "source": [
        "PATH = '/content/drive/MyDrive/2022Courses/nlp/imdb/'\n",
        "\n",
        "texts = {}\n",
        "labels = {}\n",
        "for tag in ['train', 'test']:\n",
        "  with open(f'{PATH}{tag}.npy', 'rb') as f:\n",
        "    texts[tag] = np.load(f)\n",
        "  with open(f'{PATH}{tag}_labels.npy', 'rb') as f:\n",
        "    labels[tag] = np.load(f)"
      ],
      "execution_count": null,
      "outputs": []
    },
    {
      "cell_type": "code",
      "metadata": {
        "id": "uE7RXSjEsWPU"
      },
      "source": [
        "for tag in ['train', 'test']:\n",
        "  print(tag, texts[tag].shape)"
      ],
      "execution_count": null,
      "outputs": []
    },
    {
      "cell_type": "markdown",
      "source": [
        "* PyTorchのテンソルに変換しておく。"
      ],
      "metadata": {
        "id": "iFRqcH1tpkHj"
      }
    },
    {
      "cell_type": "code",
      "metadata": {
        "id": "KuEe746MtFtr"
      },
      "source": [
        "for tag in ['train', 'test']:\n",
        "  texts[tag] = torch.tensor(texts[tag])\n",
        "  labels[tag] = torch.tensor(labels[tag])"
      ],
      "execution_count": null,
      "outputs": []
    },
    {
      "cell_type": "markdown",
      "metadata": {
        "id": "Du2OuR_1qeQi"
      },
      "source": [
        "### Dataset"
      ]
    },
    {
      "cell_type": "code",
      "source": [
        "class MyDataset(Dataset):\n",
        "  def __init__(self, X, y):\n",
        "    self.X = X\n",
        "    self.y = y\n",
        "\n",
        "  def __len__(self):\n",
        "    return self.X.shape[0]\n",
        "\n",
        "  def __getitem__(self, index):\n",
        "    return self.X[index], self.y[index]"
      ],
      "metadata": {
        "id": "xPkyiWjkppeu"
      },
      "execution_count": null,
      "outputs": []
    },
    {
      "cell_type": "code",
      "metadata": {
        "id": "1osG09aHppg1"
      },
      "source": [
        "train_dataset = MyDataset(texts['train'], labels['train'])\n",
        "test_dataset = MyDataset(texts['test'], labels['test'])\n",
        "\n",
        "valid_size = len(train_dataset) // 5\n",
        "train_size = len(train_dataset) - valid_size\n",
        "split_train_, split_valid_ = random_split(train_dataset, [train_size, valid_size])"
      ],
      "execution_count": null,
      "outputs": []
    },
    {
      "cell_type": "markdown",
      "metadata": {
        "id": "ipq2udez-0ez"
      },
      "source": [
        "### DataLoader"
      ]
    },
    {
      "cell_type": "code",
      "metadata": {
        "id": "mfloEv0Osj2n"
      },
      "source": [
        "BATCH_SIZE = 64\n",
        "\n",
        "train_loader = DataLoader(split_train_, batch_size=BATCH_SIZE, shuffle=True)\n",
        "valid_loader = DataLoader(split_valid_, batch_size=BATCH_SIZE)\n",
        "test_loader = DataLoader(test_dataset, batch_size=BATCH_SIZE)"
      ],
      "execution_count": null,
      "outputs": []
    },
    {
      "cell_type": "markdown",
      "metadata": {
        "id": "1YDOQzmVr0N6"
      },
      "source": [
        "### モデルの定義"
      ]
    },
    {
      "cell_type": "code",
      "metadata": {
        "id": "PkRnetIrs9DX"
      },
      "source": [
        "class TextSentiment(nn.Module):\n",
        "  def __init__(self, emsize, num_class):\n",
        "    super(TextSentiment, self).__init__()\n",
        "    self.fc1 = nn.Linear(emsize, 500)\n",
        "    self.fc2 = nn.Linear(500, 100)\n",
        "    self.fc3 = nn.Linear(100, num_class)\n",
        "\n",
        "  def forward(self, x):\n",
        "    x = torch.relu(self.fc1(x))\n",
        "    x = torch.relu(self.fc2(x))\n",
        "    x = self.fc3(x)\n",
        "    return x"
      ],
      "execution_count": null,
      "outputs": []
    },
    {
      "cell_type": "code",
      "metadata": {
        "id": "nLkGnlqfvQpp"
      },
      "source": [
        "EMSIZE = texts['train'].size(1) # 埋め込みベクトルの次元\n",
        "NUM_CLASS = len(np.unique(labels['train'])) # クラスの個数\n",
        "\n",
        "model = TextSentiment(EMSIZE, NUM_CLASS).to(device)"
      ],
      "execution_count": null,
      "outputs": []
    },
    {
      "cell_type": "code",
      "metadata": {
        "id": "3fqF_wxjZkPb"
      },
      "source": [
        "print(f\"embedding dim: {EMSIZE}, number of classes: {NUM_CLASS}\")"
      ],
      "execution_count": null,
      "outputs": []
    },
    {
      "cell_type": "markdown",
      "metadata": {
        "id": "gRWTIEYy_FKj"
      },
      "source": [
        "### 損失関数と最適化アルゴリズム"
      ]
    },
    {
      "cell_type": "markdown",
      "metadata": {
        "id": "IVWxfoJSzpKp"
      },
      "source": [
        "* 損失関数を除いて、以下の設定はいい加減なので、自分で調整してみよう。\n",
        "* schedulerの使い方は、調べてみよう。"
      ]
    },
    {
      "cell_type": "code",
      "metadata": {
        "id": "yB0NIxhlxka5"
      },
      "source": [
        "criterion = torch.nn.CrossEntropyLoss()\n",
        "optimizer = torch.optim.Adam(model.parameters(), lr=0.001)\n",
        "#scheduler = torch.optim.lr_scheduler.MultiStepLR(optimizer, milestones=[20,50], gamma=0.1)"
      ],
      "execution_count": null,
      "outputs": []
    },
    {
      "cell_type": "markdown",
      "metadata": {
        "id": "-0ko1VZz_Kng"
      },
      "source": [
        "### 訓練を行なう関数"
      ]
    },
    {
      "cell_type": "code",
      "metadata": {
        "id": "kHvS00cVvaVU"
      },
      "source": [
        "def train(dataloader):\n",
        "  model.train()\n",
        "  total_acc = 0.0\n",
        "  total_count = 0\n",
        "  for input, target in dataloader:\n",
        "    input, target = input.to(device), target.to(device)\n",
        "    output = model(input)\n",
        "    loss = criterion(output, target)\n",
        "    loss.backward()\n",
        "    optimizer.step()\n",
        "    optimizer.zero_grad()\n",
        "    total_acc += (output.argmax(1) == target).sum().item()\n",
        "    total_count += len(target) # 表示用の集計\n",
        "  return total_acc / total_count"
      ],
      "execution_count": null,
      "outputs": []
    },
    {
      "cell_type": "markdown",
      "metadata": {
        "id": "t0ARJYib_M84"
      },
      "source": [
        "### 評価を行なう関数\n",
        "* 正解率で評価する関数を定義しておく。"
      ]
    },
    {
      "cell_type": "code",
      "metadata": {
        "id": "DDFVMgRqyl4Q"
      },
      "source": [
        "def evaluate(dataloader):\n",
        "  model.eval()\n",
        "  total_acc = 0.0\n",
        "  total_count = 0\n",
        "  for input, target in dataloader:\n",
        "    with torch.no_grad():\n",
        "      input, target = input.to(device), target.to(device)\n",
        "      output = model(input)\n",
        "      total_acc += (output.argmax(1) == target).sum().item()\n",
        "      total_count += len(target)\n",
        "  return total_acc / total_count"
      ],
      "execution_count": null,
      "outputs": []
    },
    {
      "cell_type": "markdown",
      "metadata": {
        "id": "yEAiT90S4qae"
      },
      "source": [
        "### 訓練と評価の実施"
      ]
    },
    {
      "cell_type": "code",
      "metadata": {
        "id": "sAXpaWNwxqWN"
      },
      "source": [
        "EPOCHS = 100\n",
        "\n",
        "for epoch in range(1, EPOCHS + 1):\n",
        "  epoch_start_time = time.time()\n",
        "  train_acc = train(train_loader)\n",
        "  valid_acc = evaluate(valid_loader)\n",
        "  print(f'epoch {epoch:3d} | '\n",
        "        f'time: {time.time() - epoch_start_time:5.2f}s | '\n",
        "        f'train accuracy {train_acc:8.3f} | '\n",
        "        f'valid accuracy {valid_acc:8.3f}')"
      ],
      "execution_count": null,
      "outputs": []
    },
    {
      "cell_type": "markdown",
      "source": [
        "* training lossとvalidation lossの差が大きいと、generalizeしない。\n",
        "* 以下、各自試行錯誤してください。"
      ],
      "metadata": {
        "id": "MVtds4jFFoss"
      }
    },
    {
      "cell_type": "code",
      "metadata": {
        "id": "1gLwC3XDdK3-"
      },
      "source": [],
      "execution_count": null,
      "outputs": []
    },
    {
      "cell_type": "code",
      "source": [],
      "metadata": {
        "id": "ir-uDiG_rLQf"
      },
      "execution_count": null,
      "outputs": []
    },
    {
      "cell_type": "markdown",
      "source": [
        "* ハイパーパラメータのチューニングが済んだら、テストセットで評価する。"
      ],
      "metadata": {
        "id": "Mi5MZ1-GGcUA"
      }
    },
    {
      "cell_type": "code",
      "source": [
        "test_acc = evaluate(test_loader)\n",
        "print(f'test accuracy {test_acc:8.3f}')"
      ],
      "metadata": {
        "id": "4trquZpJGgop"
      },
      "execution_count": null,
      "outputs": []
    },
    {
      "cell_type": "markdown",
      "metadata": {
        "id": "pGDP7J3srA-d"
      },
      "source": [
        "## (B) 単語埋め込みもパラメータになっているモデル\n",
        "* fasttextの単語埋め込みを使うのをやめる。\n",
        "* 単語埋め込みも、モデルのパラメータと同時に学習することにする。"
      ]
    },
    {
      "cell_type": "markdown",
      "source": [
        "* 下記のPyTorch公式のチュートリアルも参照。\n",
        " * https://pytorch.org/tutorials/beginner/text_sentiment_ngrams_tutorial.html\n",
        "* ただし、`torchtext`の仕組みを利用すると、語彙集合の作成がとても遅い。\n",
        " * `torchtext`のトークナイザがとても遅い。\n",
        "* そこで、語彙集合の作成は、自分で行う。"
      ],
      "metadata": {
        "id": "LlX1et-jyGEG"
      }
    },
    {
      "cell_type": "markdown",
      "source": [
        "### IMDbデータセットをテキストデータとして読み直す"
      ],
      "metadata": {
        "id": "IaQp7L86ydBM"
      }
    },
    {
      "cell_type": "code",
      "source": [
        "!pip install ml_datasets"
      ],
      "metadata": {
        "id": "YogVRbAfyEWa"
      },
      "execution_count": null,
      "outputs": []
    },
    {
      "cell_type": "code",
      "source": [
        "from ml_datasets import imdb\n",
        "\n",
        "train_data, test_data = imdb()\n",
        "train_texts, train_labels = zip(*train_data)\n",
        "test_texts, test_labels = zip(*test_data)"
      ],
      "metadata": {
        "id": "Kz9T36XCyeom"
      },
      "execution_count": null,
      "outputs": []
    },
    {
      "cell_type": "code",
      "source": [
        "train_texts[0]"
      ],
      "metadata": {
        "id": "fyorioHszE7_"
      },
      "execution_count": null,
      "outputs": []
    },
    {
      "cell_type": "code",
      "source": [
        "train_labels[0]"
      ],
      "metadata": {
        "id": "3rpVihAp48uZ"
      },
      "execution_count": null,
      "outputs": []
    },
    {
      "cell_type": "markdown",
      "metadata": {
        "id": "ao2-FVU3rT04"
      },
      "source": [
        "* ラベルを0/1の整数に変換しておく。"
      ]
    },
    {
      "cell_type": "code",
      "metadata": {
        "id": "u6WVH_sKkRfF"
      },
      "source": [
        "label_id = { \"pos\":1, \"neg\":0 }\n",
        "\n",
        "train_labels = [label_id[label] for label in train_labels]\n",
        "test_labels = [label_id[label] for label in test_labels]"
      ],
      "execution_count": null,
      "outputs": []
    },
    {
      "cell_type": "code",
      "metadata": {
        "id": "eU9OGXwEk4SX"
      },
      "source": [
        "print(train_labels[:10])"
      ],
      "execution_count": null,
      "outputs": []
    },
    {
      "cell_type": "markdown",
      "metadata": {
        "id": "5bjc7f1mrYT5"
      },
      "source": [
        "### sklearnのCountVectorizerを使ってトークン化"
      ]
    },
    {
      "cell_type": "code",
      "metadata": {
        "id": "QywYL6Ise-5h"
      },
      "source": [
        "from sklearn.feature_extraction.text import CountVectorizer\n",
        "\n",
        "vectorizer = CountVectorizer(min_df=10, max_df=0.2)\n",
        "vectorizer.fit(train_texts)"
      ],
      "execution_count": null,
      "outputs": []
    },
    {
      "cell_type": "code",
      "metadata": {
        "id": "BfDGUuTBf11l"
      },
      "source": [
        "vocabulary = vectorizer.get_feature_names_out()\n",
        "print(vocabulary[:10])"
      ],
      "execution_count": null,
      "outputs": []
    },
    {
      "cell_type": "code",
      "source": [
        "len(vocabulary)"
      ],
      "metadata": {
        "id": "xljkMKOb0VAv"
      },
      "execution_count": null,
      "outputs": []
    },
    {
      "cell_type": "markdown",
      "source": [
        "### `OrderedDict`から`torchtext`の語彙集合を作る\n",
        "* 作り方は下記のリンク先を参照。\n",
        " * https://pytorch.org/text/stable/vocab.html#id1"
      ],
      "metadata": {
        "id": "6ZswDjym1fux"
      }
    },
    {
      "cell_type": "code",
      "source": [
        "from torchtext.vocab import vocab\n",
        "from collections import OrderedDict\n",
        "\n",
        "# OrderedDictを作成\n",
        "# keyは単語、valueは何でもいい（ここでは1にした）\n",
        "vocab_ordered_dict = OrderedDict(zip(vocabulary, np.ones(len(vocabulary))))\n",
        "\n",
        "# 未知語は全て\"<unk>\"という特殊なトークンへ置き換えることにする\n",
        "unknown_token = \"<unk>\"\n",
        "\n",
        "# OrderedDictをもとにtorchtextでの語彙集合を作成\n",
        "imdb_vocab = vocab(vocab_ordered_dict, specials=[unknown_token])\n",
        "\n",
        "# 語彙にない単語のインデックスは全て\"<unk>\"と同じインデックスになるよう、設定する\n",
        "imdb_vocab.set_default_index(imdb_vocab[unknown_token])"
      ],
      "metadata": {
        "id": "hIT_EpoG0uxl"
      },
      "execution_count": null,
      "outputs": []
    },
    {
      "cell_type": "code",
      "source": [
        "# 語彙数は\"<unk>\"の分だけ元より多くなる\n",
        "len(imdb_vocab)"
      ],
      "metadata": {
        "id": "I0_VfUAP6mW4"
      },
      "execution_count": null,
      "outputs": []
    },
    {
      "cell_type": "markdown",
      "metadata": {
        "id": "hpVZZrqEvQfx"
      },
      "source": [
        "* ある単語が語彙集合に入っているかどうかは、下のようにしてチェックできる。\n",
        " * インデックス0が返ってきたら、未知語として扱われているということ。"
      ]
    },
    {
      "cell_type": "code",
      "metadata": {
        "id": "OGN_JN9KgSWt"
      },
      "source": [
        "imdb_vocab([\"is\", \"efjwsdnd\"])"
      ],
      "execution_count": null,
      "outputs": []
    },
    {
      "cell_type": "code",
      "metadata": {
        "id": "w7CSZkLpU-c2"
      },
      "source": [
        "imdb_vocab([\"apple\", \"machine\"])"
      ],
      "execution_count": null,
      "outputs": []
    },
    {
      "cell_type": "markdown",
      "source": [
        "### テキストをインデックスの列へ変換する関数を定義"
      ],
      "metadata": {
        "id": "8zWbCD9q3cc_"
      }
    },
    {
      "cell_type": "code",
      "metadata": {
        "id": "1PETeskPfQXS"
      },
      "source": [
        "# fit済みのCountVectorizerから、前処理とトークナイザを持ってくる\n",
        "preprocessor = vectorizer.build_preprocessor()\n",
        "tokenizer = vectorizer.build_tokenizer()\n",
        "\n",
        "# 前処理、トークナイザ、インデックス列への変換を、一つの処理としてまとめる\n",
        "text_pipeline = lambda x: imdb_vocab(tokenizer(preprocessor(x)))"
      ],
      "execution_count": null,
      "outputs": []
    },
    {
      "cell_type": "code",
      "source": [
        "text = \"This is a pen.\"\n",
        "print(preprocessor(text))\n",
        "print(tokenizer(preprocessor(text)))\n",
        "print(text_pipeline(text))"
      ],
      "metadata": {
        "id": "8kScy-Bc3cJM"
      },
      "execution_count": null,
      "outputs": []
    },
    {
      "cell_type": "markdown",
      "source": [
        "### Dataset"
      ],
      "metadata": {
        "id": "94ms9L5j6yuW"
      }
    },
    {
      "cell_type": "code",
      "source": [
        "class MyTextDataset(Dataset):\n",
        "  def __init__(self, labels, texts):\n",
        "    self.labels = labels\n",
        "    self.texts = texts\n",
        "\n",
        "  def __len__(self):\n",
        "    return len(self.labels)\n",
        "\n",
        "  def __getitem__(self, index):\n",
        "    return self.labels[index], self.texts[index]\n",
        "\n",
        "train_dataset = MyTextDataset(train_labels, train_texts)\n",
        "test_dataset = MyTextDataset(test_labels, test_texts)"
      ],
      "metadata": {
        "id": "0zU4_SZo60jv"
      },
      "execution_count": null,
      "outputs": []
    },
    {
      "cell_type": "code",
      "source": [
        "valid_size = len(train_dataset) // 5\n",
        "train_size = len(train_dataset) - valid_size\n",
        "test_size = len(test_dataset)\n",
        "\n",
        "split_train_, split_valid_ = random_split(train_dataset, [train_size, valid_size])"
      ],
      "metadata": {
        "id": "8LT9hcgK7f2k"
      },
      "execution_count": null,
      "outputs": []
    },
    {
      "cell_type": "code",
      "source": [
        "train_dataset[0]"
      ],
      "metadata": {
        "id": "6hxRnX-y7WHf"
      },
      "execution_count": null,
      "outputs": []
    },
    {
      "cell_type": "markdown",
      "source": [
        "### DataLoader"
      ],
      "metadata": {
        "id": "-wizNGvqBm5K"
      }
    },
    {
      "cell_type": "markdown",
      "source": [
        "* ミニバッチがオフセットの情報を含むようにする。\n",
        " * オフセットは、ミニバッチに含まれるシーケンスの切れ目を表す。"
      ],
      "metadata": {
        "id": "loNUudnRGfpv"
      }
    },
    {
      "cell_type": "code",
      "source": [
        "device = torch.device(\"cuda\" if torch.cuda.is_available() else \"cpu\")\n",
        "\n",
        "def collate_batch(batch):\n",
        "  label_list, text_list, offsets = [], [], [0]\n",
        "  for (_label, _text) in batch:\n",
        "    label_list.append(_label)\n",
        "    processed_text = torch.tensor(text_pipeline(_text), dtype=torch.int64)\n",
        "    text_list.append(processed_text)\n",
        "    offsets.append(processed_text.size(0))\n",
        "  label_list = torch.tensor(label_list, dtype=torch.int64)\n",
        "  offsets = torch.tensor(offsets[:-1]).cumsum(dim=0)\n",
        "  text_list = torch.cat(text_list)\n",
        "  return label_list.to(device), text_list.to(device), offsets.to(device)"
      ],
      "metadata": {
        "id": "mtOQSAZF4XWB"
      },
      "execution_count": null,
      "outputs": []
    },
    {
      "cell_type": "code",
      "source": [
        "BATCH_SIZE = 64\n",
        "train_loader = DataLoader(split_train_, batch_size=BATCH_SIZE, shuffle=True, collate_fn=collate_batch)\n",
        "valid_loader = DataLoader(split_valid_, batch_size=BATCH_SIZE, shuffle=True, collate_fn=collate_batch)\n",
        "test_loader = DataLoader(test_dataset, batch_size=BATCH_SIZE, shuffle=True, collate_fn=collate_batch)"
      ],
      "metadata": {
        "id": "MvU6OakV79-d"
      },
      "execution_count": null,
      "outputs": []
    },
    {
      "cell_type": "code",
      "source": [
        "# オフセットを表すテンソルに注目。\n",
        "next(iter(train_loader))"
      ],
      "metadata": {
        "id": "lt4mfcE58Csp"
      },
      "execution_count": null,
      "outputs": []
    },
    {
      "cell_type": "markdown",
      "metadata": {
        "id": "m0x3kqRcsTb7"
      },
      "source": [
        "### モデルの定義\n",
        "* 下記ページのまま。\n",
        " * https://pytorch.org/tutorials/beginner/text_sentiment_ngrams_tutorial.html\n",
        "* `EmbeddingBag`レイヤは、単語をまずembedし、シーケンス内で平均を計算してくれる。\n",
        " * https://pytorch.org/docs/stable/generated/torch.nn.EmbeddingBag.html"
      ]
    },
    {
      "cell_type": "code",
      "metadata": {
        "id": "RbiMoa3adP7E"
      },
      "source": [
        "class TextClassificationModel(nn.Module):\n",
        "  \n",
        "  def __init__(self, vocab_size, embed_dim, num_class):\n",
        "    super(TextClassificationModel, self).__init__()\n",
        "    self.embedding = nn.EmbeddingBag(vocab_size, embed_dim)\n",
        "    self.fc = nn.Linear(embed_dim, num_class)\n",
        "    self.init_weights()\n",
        "\n",
        "  def init_weights(self):\n",
        "    initrange = 0.5\n",
        "    self.embedding.weight.data.uniform_(-initrange, initrange)\n",
        "    self.fc.weight.data.uniform_(-initrange, initrange)\n",
        "    self.fc.bias.data.zero_()\n",
        "\n",
        "  def forward(self, text, offsets):\n",
        "    embedded = self.embedding(text, offsets)\n",
        "    return self.fc(embedded)"
      ],
      "execution_count": null,
      "outputs": []
    },
    {
      "cell_type": "code",
      "metadata": {
        "id": "YE_sBuU2iSMC"
      },
      "source": [
        "NUM_CLASS = len(label_id)\n",
        "VOCAB_SIZE = len(imdb_vocab)\n",
        "EMSIZE = 64\n",
        "model = TextClassificationModel(VOCAB_SIZE, EMSIZE, NUM_CLASS).to(device)"
      ],
      "execution_count": null,
      "outputs": []
    },
    {
      "cell_type": "markdown",
      "metadata": {
        "id": "kKWx0ApasYxc"
      },
      "source": [
        "### 損失関数と最適化アルゴリズム"
      ]
    },
    {
      "cell_type": "code",
      "metadata": {
        "id": "jD61kYGMqa7I"
      },
      "source": [
        "EPOCHS = 10 # epoch\n",
        "LR = 0.001  # learning rate\n",
        "\n",
        "criterion = torch.nn.CrossEntropyLoss()\n",
        "optimizer = torch.optim.Adam(model.parameters(), lr=LR)"
      ],
      "execution_count": null,
      "outputs": []
    },
    {
      "cell_type": "markdown",
      "metadata": {
        "id": "qPncv39nsb3s"
      },
      "source": [
        "### 訓練を行なう関数"
      ]
    },
    {
      "cell_type": "code",
      "source": [
        "def train(dataloader):\n",
        "  model.train()\n",
        "  total_acc, total_count = 0, 0\n",
        "  for idx, (label, text, offsets) in enumerate(dataloader):\n",
        "    optimizer.zero_grad()\n",
        "    predicted_label = model(text, offsets)\n",
        "    loss = criterion(predicted_label, label)\n",
        "    loss.backward()\n",
        "    torch.nn.utils.clip_grad_norm_(model.parameters(), 0.1)\n",
        "    optimizer.step()\n",
        "    total_acc += (predicted_label.argmax(1) == label).sum().item()\n",
        "    total_count += label.size(0)\n",
        "  return total_acc / total_count"
      ],
      "metadata": {
        "id": "snPT0y3m859l"
      },
      "execution_count": null,
      "outputs": []
    },
    {
      "cell_type": "markdown",
      "source": [
        "### 評価を行なう関数"
      ],
      "metadata": {
        "id": "iqTbyxWfB7UA"
      }
    },
    {
      "cell_type": "code",
      "source": [
        "def evaluate(dataloader):\n",
        "  model.eval()\n",
        "  total_acc, total_count = 0, 0\n",
        "  with torch.no_grad():\n",
        "    for idx, (label, text, offsets) in enumerate(dataloader):\n",
        "      predicted_label = model(text, offsets)\n",
        "      loss = criterion(predicted_label, label)\n",
        "      total_acc += (predicted_label.argmax(1) == label).sum().item()\n",
        "      total_count += label.size(0)\n",
        "  return total_acc / total_count"
      ],
      "metadata": {
        "id": "DmVUqACIB6zM"
      },
      "execution_count": null,
      "outputs": []
    },
    {
      "cell_type": "markdown",
      "source": [
        "### 訓練と評価の実施"
      ],
      "metadata": {
        "id": "JCjI6-FRB0G8"
      }
    },
    {
      "cell_type": "code",
      "metadata": {
        "id": "5BPcXFmejU3x"
      },
      "source": [
        "for epoch in range(1, EPOCHS + 1):\n",
        "  epoch_start_time = time.time()\n",
        "  train_acc = train(train_loader)\n",
        "  valid_acc = evaluate(valid_loader)\n",
        "  print(f'epoch {epoch:3d} | '\n",
        "        f'time: {time.time() - epoch_start_time:5.2f}s | '\n",
        "        f'train accuracy {train_acc:8.3f} | '\n",
        "        f'valid accuracy {valid_acc:8.3f}')"
      ],
      "execution_count": null,
      "outputs": []
    },
    {
      "cell_type": "code",
      "metadata": {
        "id": "NAuufgZWW8tH"
      },
      "source": [],
      "execution_count": null,
      "outputs": []
    },
    {
      "cell_type": "markdown",
      "metadata": {
        "id": "uE7wz0tUW-1U"
      },
      "source": [
        "* 検証セット上での評価値でチューニングしてから、テストセットで最終評価。"
      ]
    },
    {
      "cell_type": "code",
      "source": [
        "print(f\"test accuracy {evaluate(test_loader):8.3f}\")"
      ],
      "metadata": {
        "id": "4pcIio4PAS58"
      },
      "execution_count": null,
      "outputs": []
    },
    {
      "cell_type": "markdown",
      "metadata": {
        "id": "uUzVkJ2v-tt_"
      },
      "source": [
        "# 課題\n",
        "* モデルやoptimizerやschedulerを変更して、validation setを使ってチューニングしよう。\n",
        "* 最後に、自分で選択した設定を使って、test set上で評価しよう。"
      ]
    },
    {
      "cell_type": "code",
      "metadata": {
        "id": "prYPP13ByCid"
      },
      "source": [],
      "execution_count": null,
      "outputs": []
    },
    {
      "cell_type": "code",
      "metadata": {
        "id": "RIFqTNLYba53"
      },
      "source": [],
      "execution_count": null,
      "outputs": []
    },
    {
      "cell_type": "code",
      "metadata": {
        "id": "26RYXnmnbbSc"
      },
      "source": [],
      "execution_count": null,
      "outputs": []
    }
  ]
}