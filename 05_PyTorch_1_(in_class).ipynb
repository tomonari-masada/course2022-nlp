{
  "nbformat": 4,
  "nbformat_minor": 0,
  "metadata": {
    "colab": {
      "provenance": [],
      "collapsed_sections": [],
      "authorship_tag": "ABX9TyN227XLcnll7tSYY04DTYJ1",
      "include_colab_link": true
    },
    "kernelspec": {
      "name": "python3",
      "display_name": "Python 3"
    },
    "accelerator": "GPU"
  },
  "cells": [
    {
      "cell_type": "markdown",
      "metadata": {
        "id": "view-in-github",
        "colab_type": "text"
      },
      "source": [
        "<a href=\"https://colab.research.google.com/github/tomonari-masada/course2022-nlp/blob/main/05_PyTorch_1_(in_class).ipynb\" target=\"_parent\"><img src=\"https://colab.research.google.com/assets/colab-badge.svg\" alt=\"Open In Colab\"/></a>"
      ]
    },
    {
      "cell_type": "markdown",
      "metadata": {
        "id": "jEY4wJjS58Uw"
      },
      "source": [
        "# PyTorch入門 (1)\n",
        "参考資料: \n",
        "* PyTorch公式のチュートリアル https://pytorch.org/tutorials/index.html"
      ]
    },
    {
      "cell_type": "markdown",
      "metadata": {
        "id": "D4eoNznm85cQ"
      },
      "source": [
        "注意:\n",
        "* ランタイムのタイプをGPUにしておいてください。\n",
        "  * 上のメニュー「ランタイム」→「ランタイムのタイプを変更」で「GPU」を選択 \n"
      ]
    },
    {
      "cell_type": "markdown",
      "source": [
        "## Reproducibility\n",
        "* 乱数のシードを設定して、実験の再現性を確保する。\n",
        " * https://pytorch.org/docs/stable/notes/randomness.html"
      ],
      "metadata": {
        "id": "if8bT5GDUHJU"
      }
    },
    {
      "cell_type": "code",
      "source": [
        "import random\n",
        "import numpy as np\n",
        "import torch\n",
        "\n",
        "random.seed(0)\n",
        "np.random.seed(0)\n",
        "torch.manual_seed(0)"
      ],
      "metadata": {
        "id": "E16ZvtoIUJtQ",
        "colab": {
          "base_uri": "https://localhost:8080/"
        },
        "outputId": "849bd112-8f17-4642-b9bc-d15da607e93c"
      },
      "execution_count": null,
      "outputs": [
        {
          "output_type": "execute_result",
          "data": {
            "text/plain": [
              "<torch._C.Generator at 0x7f48164a2790>"
            ]
          },
          "metadata": {},
          "execution_count": 1
        }
      ]
    },
    {
      "cell_type": "markdown",
      "metadata": {
        "id": "Nb3T_6gD6Anx"
      },
      "source": [
        "## テンソル"
      ]
    },
    {
      "cell_type": "markdown",
      "metadata": {
        "id": "3FXJ5hE3qeL4"
      },
      "source": [
        "### テンソルの作り方"
      ]
    },
    {
      "cell_type": "code",
      "metadata": {
        "id": "vJm1Nbbo--oF",
        "colab": {
          "base_uri": "https://localhost:8080/"
        },
        "outputId": "d539fa11-dde5-4b16-d051-8a7ed3ffc1e6"
      },
      "source": [
        "# 1で埋められたテンソルを作る\n",
        "x = torch.ones(2, 5)\n",
        "print(x)"
      ],
      "execution_count": null,
      "outputs": [
        {
          "output_type": "stream",
          "name": "stdout",
          "text": [
            "tensor([[1., 1., 1., 1., 1.],\n",
            "        [1., 1., 1., 1., 1.]])\n"
          ]
        }
      ]
    },
    {
      "cell_type": "code",
      "metadata": {
        "id": "_JKj6OfJBpcv",
        "colab": {
          "base_uri": "https://localhost:8080/"
        },
        "outputId": "edce1aa5-0411-4e0a-f75b-824c3df99dad"
      },
      "source": [
        "# 要素のデータ型を確認する\n",
        "print(x.dtype)"
      ],
      "execution_count": null,
      "outputs": [
        {
          "output_type": "stream",
          "name": "stdout",
          "text": [
            "torch.float32\n"
          ]
        }
      ]
    },
    {
      "cell_type": "code",
      "metadata": {
        "id": "v2_2JQuB_Efe",
        "colab": {
          "base_uri": "https://localhost:8080/"
        },
        "outputId": "46630d40-2565-46bf-b68d-df9c0cb83f7e"
      },
      "source": [
        "# 0で埋められたテンソルを作る\n",
        "x = torch.zeros(4, 4)\n",
        "print(x)"
      ],
      "execution_count": null,
      "outputs": [
        {
          "output_type": "stream",
          "name": "stdout",
          "text": [
            "tensor([[0., 0., 0., 0.],\n",
            "        [0., 0., 0., 0.],\n",
            "        [0., 0., 0., 0.],\n",
            "        [0., 0., 0., 0.]])\n"
          ]
        }
      ]
    },
    {
      "cell_type": "code",
      "metadata": {
        "id": "9yyGCRno_TXq",
        "colab": {
          "base_uri": "https://localhost:8080/"
        },
        "outputId": "8a65e078-67e8-4048-b431-2a9181f14e60"
      },
      "source": [
        "# 特定の値で埋められたテンソルを作る\n",
        "x = torch.full((2, 3), 3.14159)\n",
        "print(x)"
      ],
      "execution_count": null,
      "outputs": [
        {
          "output_type": "stream",
          "name": "stdout",
          "text": [
            "tensor([[3.1416, 3.1416, 3.1416],\n",
            "        [3.1416, 3.1416, 3.1416]])\n"
          ]
        }
      ]
    },
    {
      "cell_type": "code",
      "metadata": {
        "id": "3ajeiMCeq5-y",
        "colab": {
          "base_uri": "https://localhost:8080/"
        },
        "outputId": "9b10fd66-82b2-46bc-e320-e4c928de90d1"
      },
      "source": [
        "# [0,1)の一様乱数を要素とするテンソルを作る\n",
        "x = torch.rand(5, 3)\n",
        "print(x)"
      ],
      "execution_count": null,
      "outputs": [
        {
          "output_type": "stream",
          "name": "stdout",
          "text": [
            "tensor([[0.4963, 0.7682, 0.0885],\n",
            "        [0.1320, 0.3074, 0.6341],\n",
            "        [0.4901, 0.8964, 0.4556],\n",
            "        [0.6323, 0.3489, 0.4017],\n",
            "        [0.0223, 0.1689, 0.2939]])\n"
          ]
        }
      ]
    },
    {
      "cell_type": "code",
      "metadata": {
        "id": "eNtphqmer-bo",
        "colab": {
          "base_uri": "https://localhost:8080/"
        },
        "outputId": "2a661d39-92c6-42d0-9b32-cc2a6f6ec9a8"
      },
      "source": [
        "# Pythonのリストからテンソルを作る\n",
        "x = torch.tensor([5.5, 3])\n",
        "print(x)"
      ],
      "execution_count": null,
      "outputs": [
        {
          "output_type": "stream",
          "name": "stdout",
          "text": [
            "tensor([5.5000, 3.0000])\n"
          ]
        }
      ]
    },
    {
      "cell_type": "code",
      "metadata": {
        "id": "CQD9IrR__a4O",
        "colab": {
          "base_uri": "https://localhost:8080/"
        },
        "outputId": "ca26b5ed-6302-4bce-9f51-2c26d8ca296e"
      },
      "source": [
        "# NumPyのndarrayからテンソルを作る\n",
        "a = np.array([1, 2, 3])\n",
        "print(a)\n",
        "t = torch.from_numpy(a)\n",
        "print(t)"
      ],
      "execution_count": null,
      "outputs": [
        {
          "output_type": "stream",
          "name": "stdout",
          "text": [
            "[1 2 3]\n",
            "tensor([1, 2, 3])\n"
          ]
        }
      ]
    },
    {
      "cell_type": "code",
      "source": [
        "# NumPyのndarrayの要素を変更するとどうなるか？\n",
        "a[0] = -1\n",
        "print(t)"
      ],
      "metadata": {
        "id": "78w5didkL3gV",
        "colab": {
          "base_uri": "https://localhost:8080/"
        },
        "outputId": "77fec350-8cc8-412f-fa50-757d8c725668"
      },
      "execution_count": null,
      "outputs": [
        {
          "output_type": "stream",
          "name": "stdout",
          "text": [
            "tensor([-1,  2,  3])\n"
          ]
        }
      ]
    },
    {
      "cell_type": "code",
      "source": [
        "# テンソルのほうの要素を変更するとどうなるか?\n",
        "t[1] = -2\n",
        "print(a)"
      ],
      "metadata": {
        "id": "KYqUhYzjL5se",
        "colab": {
          "base_uri": "https://localhost:8080/"
        },
        "outputId": "a5b2ebc4-6c70-48c3-f059-37ffcf6b7ea0"
      },
      "execution_count": null,
      "outputs": [
        {
          "output_type": "stream",
          "name": "stdout",
          "text": [
            "[-1 -2  3]\n"
          ]
        }
      ]
    },
    {
      "cell_type": "code",
      "metadata": {
        "id": "pZMEJU17AUMf",
        "colab": {
          "base_uri": "https://localhost:8080/"
        },
        "outputId": "94edbec9-2eda-4372-864e-5a41ea6abe83"
      },
      "source": [
        "# cloneメソッドを使ってテンソルの複製を作る\n",
        "a = np.array([1, 2, 3])\n",
        "print(a)\n",
        "t = torch.from_numpy(a)\n",
        "print(t)\n",
        "s = t.clone()\n",
        "print(s)"
      ],
      "execution_count": null,
      "outputs": [
        {
          "output_type": "stream",
          "name": "stdout",
          "text": [
            "[1 2 3]\n",
            "tensor([1, 2, 3])\n",
            "tensor([1, 2, 3])\n"
          ]
        }
      ]
    },
    {
      "cell_type": "code",
      "source": [
        "s[0] = -1\n",
        "print(a)\n",
        "print(s)"
      ],
      "metadata": {
        "id": "uwP8DYB5L_j4",
        "colab": {
          "base_uri": "https://localhost:8080/"
        },
        "outputId": "99b7e524-0177-4b54-e5ee-d694f73b5d36"
      },
      "execution_count": null,
      "outputs": [
        {
          "output_type": "stream",
          "name": "stdout",
          "text": [
            "[1 2 3]\n",
            "tensor([-1,  2,  3])\n"
          ]
        }
      ]
    },
    {
      "cell_type": "code",
      "source": [
        "a[1] = -2\n",
        "print(a)\n",
        "print(s)"
      ],
      "metadata": {
        "id": "Leh7S3D5MA8s",
        "colab": {
          "base_uri": "https://localhost:8080/"
        },
        "outputId": "429f7ecc-7954-4b1f-c422-f766e6f4bea8"
      },
      "execution_count": null,
      "outputs": [
        {
          "output_type": "stream",
          "name": "stdout",
          "text": [
            "[ 1 -2  3]\n",
            "tensor([-1,  2,  3])\n"
          ]
        }
      ]
    },
    {
      "cell_type": "code",
      "metadata": {
        "id": "pep3TEu8DT30",
        "colab": {
          "base_uri": "https://localhost:8080/"
        },
        "outputId": "ff63881d-7d2f-47eb-ebe0-6b001db4e9f2"
      },
      "source": [
        "# テンソルからndarrayを作る\n",
        "x = torch.ones(3,4)\n",
        "print(x)\n",
        "y = x.numpy()\n",
        "print(y)"
      ],
      "execution_count": null,
      "outputs": [
        {
          "output_type": "stream",
          "name": "stdout",
          "text": [
            "tensor([[1., 1., 1., 1.],\n",
            "        [1., 1., 1., 1.],\n",
            "        [1., 1., 1., 1.]])\n",
            "[[1. 1. 1. 1.]\n",
            " [1. 1. 1. 1.]\n",
            " [1. 1. 1. 1.]]\n"
          ]
        }
      ]
    },
    {
      "cell_type": "code",
      "source": [
        "# テンソルを変更するとどうなるか?\n",
        "x[0,0] = -1\n",
        "print(x)\n",
        "print(y)"
      ],
      "metadata": {
        "id": "1J_aN1AyMGlN",
        "colab": {
          "base_uri": "https://localhost:8080/"
        },
        "outputId": "67a908ac-c364-4004-abd3-bc315dda508c"
      },
      "execution_count": null,
      "outputs": [
        {
          "output_type": "stream",
          "name": "stdout",
          "text": [
            "tensor([[-1.,  1.,  1.,  1.],\n",
            "        [ 1.,  1.,  1.,  1.],\n",
            "        [ 1.,  1.,  1.,  1.]])\n",
            "[[-1.  1.  1.  1.]\n",
            " [ 1.  1.  1.  1.]\n",
            " [ 1.  1.  1.  1.]]\n"
          ]
        }
      ]
    },
    {
      "cell_type": "markdown",
      "metadata": {
        "id": "yH3xfOOtBXc7"
      },
      "source": [
        "### テンソルの形状を得る"
      ]
    },
    {
      "cell_type": "code",
      "metadata": {
        "id": "lGjDbafgsnc4",
        "colab": {
          "base_uri": "https://localhost:8080/"
        },
        "outputId": "4832415b-cdc5-4589-ec9c-932d5d68c668"
      },
      "source": [
        "x = torch.zeros(5, 3) \n",
        "print(x)\n",
        "\n",
        "print(x.shape)\n",
        "print(x.size(0))\n",
        "print(x.size(1))"
      ],
      "execution_count": null,
      "outputs": [
        {
          "output_type": "stream",
          "name": "stdout",
          "text": [
            "tensor([[0., 0., 0.],\n",
            "        [0., 0., 0.],\n",
            "        [0., 0., 0.],\n",
            "        [0., 0., 0.],\n",
            "        [0., 0., 0.]])\n",
            "torch.Size([5, 3])\n",
            "5\n",
            "3\n"
          ]
        }
      ]
    },
    {
      "cell_type": "markdown",
      "metadata": {
        "id": "EQmjzqTiBGSm"
      },
      "source": [
        "### 既存のテンソルから新たにテンソルを作る"
      ]
    },
    {
      "cell_type": "code",
      "metadata": {
        "id": "yRt1jFlTBT2d",
        "colab": {
          "base_uri": "https://localhost:8080/"
        },
        "outputId": "cfb9b6cb-9d7f-4150-d981-c9678c05251a"
      },
      "source": [
        "# 既存のテンソルから形状を引き継いで新たにテンソルを作る\n",
        "# 要素のデータ型は変更できる\n",
        "# （randnは正規乱数の意味）\n",
        "x2 = torch.randn_like(x, dtype=torch.float)\n",
        "print(x2)"
      ],
      "execution_count": null,
      "outputs": [
        {
          "output_type": "stream",
          "name": "stdout",
          "text": [
            "tensor([[ 0.6035,  0.8110, -0.0451],\n",
            "        [ 0.8797,  1.0482, -0.0445],\n",
            "        [-0.7229,  2.8663, -0.5655],\n",
            "        [ 0.1604, -0.0254,  1.0739],\n",
            "        [ 2.2628, -0.9175, -0.2251]])\n"
          ]
        }
      ]
    },
    {
      "cell_type": "markdown",
      "metadata": {
        "id": "q_UZIAV06aqr"
      },
      "source": [
        "### テンソルの要素のデータ型いろいろ"
      ]
    },
    {
      "cell_type": "code",
      "metadata": {
        "id": "mXv3W-9zCjn1",
        "colab": {
          "base_uri": "https://localhost:8080/"
        },
        "outputId": "c0dfcfcf-59cb-4bfc-81a8-cf121cde493d"
      },
      "source": [
        "a = torch.tensor(1)\n",
        "print(a, a.dtype)"
      ],
      "execution_count": null,
      "outputs": [
        {
          "output_type": "stream",
          "name": "stdout",
          "text": [
            "tensor(1) torch.int64\n"
          ]
        }
      ]
    },
    {
      "cell_type": "code",
      "metadata": {
        "id": "JPHJ9pGa6Ra6",
        "colab": {
          "base_uri": "https://localhost:8080/"
        },
        "outputId": "0bdb61f7-078e-4bbc-e08b-370fe030e16f"
      },
      "source": [
        "x = torch.tensor(2.0)\n",
        "print(x, x.dtype)\n",
        "y = torch.tensor(2.0, dtype=torch.float64)\n",
        "print(y, y.dtype)\n",
        "z = torch.tensor(2.0, dtype=torch.float16)\n",
        "print(z, z.dtype)\n"
      ],
      "execution_count": null,
      "outputs": [
        {
          "output_type": "stream",
          "name": "stdout",
          "text": [
            "tensor(2.) torch.float32\n",
            "tensor(2., dtype=torch.float64) torch.float64\n",
            "tensor(2., dtype=torch.float16) torch.float16\n"
          ]
        }
      ]
    },
    {
      "cell_type": "code",
      "source": [
        "s = x + y + z\n",
        "print(s.dtype)"
      ],
      "metadata": {
        "id": "tmEF-4aoMP4L",
        "colab": {
          "base_uri": "https://localhost:8080/"
        },
        "outputId": "14a8cd1e-4e3b-41f2-f126-1c874bd0dbc6"
      },
      "execution_count": null,
      "outputs": [
        {
          "output_type": "stream",
          "name": "stdout",
          "text": [
            "torch.float64\n"
          ]
        }
      ]
    },
    {
      "cell_type": "code",
      "metadata": {
        "id": "7jIv5bx0Clps",
        "colab": {
          "base_uri": "https://localhost:8080/"
        },
        "outputId": "20a44dce-de4f-4429-c4c0-e3f10653dd82"
      },
      "source": [
        "b = torch.tensor(True)\n",
        "print(b, b.dtype)"
      ],
      "execution_count": null,
      "outputs": [
        {
          "output_type": "stream",
          "name": "stdout",
          "text": [
            "tensor(True) torch.bool\n"
          ]
        }
      ]
    },
    {
      "cell_type": "markdown",
      "metadata": {
        "id": "mDrafV5e74Ca"
      },
      "source": [
        "### 型の指定(1)"
      ]
    },
    {
      "cell_type": "code",
      "metadata": {
        "id": "XXFfYPSG6ZFO",
        "colab": {
          "base_uri": "https://localhost:8080/"
        },
        "outputId": "4a6dd986-9391-4be5-fea4-d96dec4eea23"
      },
      "source": [
        "a = torch.tensor(1, dtype=torch.int32)\n",
        "print(a, a.dtype)\n",
        "x = torch.tensor(2.0, dtype=torch.float)\n",
        "print(x, x.dtype)\n",
        "z = torch.tensor(2.0, dtype=torch.double)\n",
        "print(z, z.dtype)"
      ],
      "execution_count": null,
      "outputs": [
        {
          "output_type": "stream",
          "name": "stdout",
          "text": [
            "tensor(1, dtype=torch.int32) torch.int32\n",
            "tensor(2.) torch.float32\n",
            "tensor(2., dtype=torch.float64) torch.float64\n"
          ]
        }
      ]
    },
    {
      "cell_type": "markdown",
      "metadata": {
        "id": "vQrL43C27wrG"
      },
      "source": [
        "### 型の指定(2)"
      ]
    },
    {
      "cell_type": "code",
      "metadata": {
        "id": "udgaTsg66syq",
        "colab": {
          "base_uri": "https://localhost:8080/"
        },
        "outputId": "8c4b02e4-e42b-45dc-e00a-b552862362ab"
      },
      "source": [
        "a = torch.IntTensor([1, 2, 3])\n",
        "print(a, a.dtype)\n",
        "x = torch.FloatTensor(np.array([2.0, -4.0]))\n",
        "print(x, x.dtype)\n",
        "y = torch.DoubleTensor([2.0, -4.0])\n",
        "print(y, y.dtype)\n",
        "b = torch.BoolTensor([1, 0, 2, 0])\n",
        "print(b, b.dtype)"
      ],
      "execution_count": null,
      "outputs": [
        {
          "output_type": "stream",
          "name": "stdout",
          "text": [
            "tensor([1, 2, 3], dtype=torch.int32) torch.int32\n",
            "tensor([ 2., -4.]) torch.float32\n",
            "tensor([ 2., -4.], dtype=torch.float64) torch.float64\n",
            "tensor([ True, False,  True, False]) torch.bool\n"
          ]
        }
      ]
    },
    {
      "cell_type": "markdown",
      "metadata": {
        "id": "vxW9yw9X7jZZ"
      },
      "source": [
        "### 型の変更"
      ]
    },
    {
      "cell_type": "code",
      "metadata": {
        "id": "4fKa8r5g7C59",
        "colab": {
          "base_uri": "https://localhost:8080/"
        },
        "outputId": "319a9f7c-03fe-4ac1-f1dc-4a86d50e922f"
      },
      "source": [
        "a = torch.tensor([1, 10])\n",
        "print(a, a.dtype)\n",
        "\n",
        "x = a.float()\n",
        "print(x, x.dtype)"
      ],
      "execution_count": null,
      "outputs": [
        {
          "output_type": "stream",
          "name": "stdout",
          "text": [
            "tensor([ 1, 10]) torch.int64\n",
            "tensor([ 1., 10.]) torch.float32\n"
          ]
        }
      ]
    },
    {
      "cell_type": "code",
      "source": [
        "y = a.type(torch.float64)\n",
        "print(y, y.dtype)"
      ],
      "metadata": {
        "id": "oc_HCb-7Mm-8",
        "colab": {
          "base_uri": "https://localhost:8080/"
        },
        "outputId": "8bfa5ccc-7cec-457d-adc9-03cc699ab03d"
      },
      "execution_count": null,
      "outputs": [
        {
          "output_type": "stream",
          "name": "stdout",
          "text": [
            "tensor([ 1., 10.], dtype=torch.float64) torch.float64\n"
          ]
        }
      ]
    },
    {
      "cell_type": "code",
      "source": [
        "z = a.type_as(x)\n",
        "print(z, z.dtype)"
      ],
      "metadata": {
        "id": "hUV0xdRcMiji",
        "colab": {
          "base_uri": "https://localhost:8080/"
        },
        "outputId": "db06d06b-bff3-42b7-d79e-da51aff3c69a"
      },
      "execution_count": null,
      "outputs": [
        {
          "output_type": "stream",
          "name": "stdout",
          "text": [
            "tensor([ 1., 10.]) torch.float32\n"
          ]
        }
      ]
    },
    {
      "cell_type": "markdown",
      "metadata": {
        "id": "S5YSHzUR8E_B"
      },
      "source": [
        "### スカラーとベクトル"
      ]
    },
    {
      "cell_type": "code",
      "metadata": {
        "id": "f0KRJeiu7mE0",
        "colab": {
          "base_uri": "https://localhost:8080/"
        },
        "outputId": "9ebccec0-6ee3-4bf1-e129-d2c1afe56070"
      },
      "source": [
        "s = torch.tensor(1.0)\n",
        "print(s)\n",
        "print(s.dim())\n",
        "print(s.shape)"
      ],
      "execution_count": null,
      "outputs": [
        {
          "output_type": "stream",
          "name": "stdout",
          "text": [
            "tensor(1.)\n",
            "0\n",
            "torch.Size([])\n"
          ]
        }
      ]
    },
    {
      "cell_type": "code",
      "source": [
        "v = torch.tensor([1.0, 2.0, 3.0, 4.0])\n",
        "print(v)\n",
        "print(v.dim())\n",
        "print(v.shape)"
      ],
      "metadata": {
        "id": "99vZHSCTMtEp",
        "colab": {
          "base_uri": "https://localhost:8080/"
        },
        "outputId": "bb2d9ca4-9d7f-465f-b60e-85e0fb7613b0"
      },
      "execution_count": null,
      "outputs": [
        {
          "output_type": "stream",
          "name": "stdout",
          "text": [
            "tensor([1., 2., 3., 4.])\n",
            "1\n",
            "torch.Size([4])\n"
          ]
        }
      ]
    },
    {
      "cell_type": "code",
      "source": [
        "v = torch.tensor([4.0])\n",
        "print(v)\n",
        "print(v.dim())\n",
        "print(v.shape)"
      ],
      "metadata": {
        "id": "thA12-uLMs0g",
        "colab": {
          "base_uri": "https://localhost:8080/"
        },
        "outputId": "74a448ed-b138-4d08-97bd-b09c8f241e75"
      },
      "execution_count": null,
      "outputs": [
        {
          "output_type": "stream",
          "name": "stdout",
          "text": [
            "tensor([4.])\n",
            "1\n",
            "torch.Size([1])\n"
          ]
        }
      ]
    },
    {
      "cell_type": "code",
      "metadata": {
        "id": "gBuSFAnqvq4i",
        "colab": {
          "base_uri": "https://localhost:8080/"
        },
        "outputId": "7fb5319e-bc92-4723-c9bd-1126accbd782"
      },
      "source": [
        "# 要素がひとつのテンソルから、その要素をスカラ値として取り出す\n",
        "x = torch.randn(1)\n",
        "print(x)\n",
        "print(type(x.item()))"
      ],
      "execution_count": null,
      "outputs": [
        {
          "output_type": "stream",
          "name": "stdout",
          "text": [
            "tensor([-1.1088])\n",
            "<class 'float'>\n"
          ]
        }
      ]
    },
    {
      "cell_type": "markdown",
      "metadata": {
        "id": "ohAYO4Om8WmT"
      },
      "source": [
        "### 行列"
      ]
    },
    {
      "cell_type": "code",
      "metadata": {
        "id": "SrayRh_48EPA",
        "colab": {
          "base_uri": "https://localhost:8080/"
        },
        "outputId": "705f86c1-4e59-48c0-f5f4-f7c70889b2e5"
      },
      "source": [
        "m = torch.tensor([[1.0, 2.0], [3.0, 4.0]])\n",
        "print(m)\n",
        "print(m.dim())\n",
        "print(m.shape)\n",
        "print(m[1, 1])"
      ],
      "execution_count": null,
      "outputs": [
        {
          "output_type": "stream",
          "name": "stdout",
          "text": [
            "tensor([[1., 2.],\n",
            "        [3., 4.]])\n",
            "2\n",
            "torch.Size([2, 2])\n",
            "tensor(4.)\n"
          ]
        }
      ]
    },
    {
      "cell_type": "markdown",
      "metadata": {
        "id": "6XRgzduC8oID"
      },
      "source": [
        "### テンソル"
      ]
    },
    {
      "cell_type": "code",
      "metadata": {
        "id": "ZPERpt9z8YJ0",
        "colab": {
          "base_uri": "https://localhost:8080/"
        },
        "outputId": "4eedadc2-ea96-4d42-cf66-bde1ecbc399d"
      },
      "source": [
        "t = torch.tensor([[[1.0, 2.0], [3.0, 4.0]], [[5.0, 6.0], [7.0, 8.0]]])\n",
        "print(t)\n",
        "print(t.dim())\n",
        "print(t.shape)\n",
        "print(t[1, 1, 1])"
      ],
      "execution_count": null,
      "outputs": [
        {
          "output_type": "stream",
          "name": "stdout",
          "text": [
            "tensor([[[1., 2.],\n",
            "         [3., 4.]],\n",
            "\n",
            "        [[5., 6.],\n",
            "         [7., 8.]]])\n",
            "3\n",
            "torch.Size([2, 2, 2])\n",
            "tensor(8.)\n"
          ]
        }
      ]
    },
    {
      "cell_type": "code",
      "metadata": {
        "id": "MW1dYvFR8qYF",
        "colab": {
          "base_uri": "https://localhost:8080/"
        },
        "outputId": "26d8fd0f-579d-43a6-f77c-bbf8487f6ac5"
      },
      "source": [
        "t = torch.tensor([[[[1.0, 1.0], [2.0, 2.0]], [[3.0, 3.0], [4.0, 4.0]]],\n",
        "                        [[[5.0, 5.0], [6.0, 6.0]], [[7.0, 7.0], [8.0, 8.0]]]])\n",
        "print(t)\n",
        "print(t.dim())\n",
        "print(t.shape)\n",
        "print(t[1, 1, 1, 1])"
      ],
      "execution_count": null,
      "outputs": [
        {
          "output_type": "stream",
          "name": "stdout",
          "text": [
            "tensor([[[[1., 1.],\n",
            "          [2., 2.]],\n",
            "\n",
            "         [[3., 3.],\n",
            "          [4., 4.]]],\n",
            "\n",
            "\n",
            "        [[[5., 5.],\n",
            "          [6., 6.]],\n",
            "\n",
            "         [[7., 7.],\n",
            "          [8., 8.]]]])\n",
            "4\n",
            "torch.Size([2, 2, 2, 2])\n",
            "tensor(8.)\n"
          ]
        }
      ]
    },
    {
      "cell_type": "markdown",
      "metadata": {
        "id": "PZQMWS__ohwA"
      },
      "source": [
        "## テンソルのビュー "
      ]
    },
    {
      "cell_type": "markdown",
      "metadata": {
        "id": "Rjqhtv-n9mM4"
      },
      "source": [
        "### view()メソッド\n",
        "* viewとreshapeについては、下記リンク先を参照。\n",
        " * https://pytorch.org/docs/stable/tensor_view.html"
      ]
    },
    {
      "cell_type": "code",
      "metadata": {
        "id": "4VNbS-gekWPb",
        "colab": {
          "base_uri": "https://localhost:8080/"
        },
        "outputId": "6598780f-58f6-49b1-cab5-8ab049f13e1d"
      },
      "source": [
        "v = torch.arange(0, 12)\n",
        "print(v)\n",
        "print(v.shape)"
      ],
      "execution_count": null,
      "outputs": [
        {
          "output_type": "stream",
          "name": "stdout",
          "text": [
            "tensor([ 0,  1,  2,  3,  4,  5,  6,  7,  8,  9, 10, 11])\n",
            "torch.Size([12])\n"
          ]
        }
      ]
    },
    {
      "cell_type": "code",
      "metadata": {
        "id": "D-R-5W6d9bwV",
        "colab": {
          "base_uri": "https://localhost:8080/"
        },
        "outputId": "ad325efe-4d7c-4bee-aa0d-c9b336a17a0a"
      },
      "source": [
        "m34 = v.view(3, 4)\n",
        "print(m34)\n",
        "print(m34.shape)"
      ],
      "execution_count": null,
      "outputs": [
        {
          "output_type": "stream",
          "name": "stdout",
          "text": [
            "tensor([[ 0,  1,  2,  3],\n",
            "        [ 4,  5,  6,  7],\n",
            "        [ 8,  9, 10, 11]])\n",
            "torch.Size([3, 4])\n"
          ]
        }
      ]
    },
    {
      "cell_type": "code",
      "source": [
        "v[0] = 10\n",
        "print(m34)"
      ],
      "metadata": {
        "id": "NuPP10tCOA4o",
        "colab": {
          "base_uri": "https://localhost:8080/"
        },
        "outputId": "1a91ea13-161e-4306-d2f3-e5656046c6be"
      },
      "execution_count": null,
      "outputs": [
        {
          "output_type": "stream",
          "name": "stdout",
          "text": [
            "tensor([[10,  1,  2,  3],\n",
            "        [ 4,  5,  6,  7],\n",
            "        [ 8,  9, 10, 11]])\n"
          ]
        }
      ]
    },
    {
      "cell_type": "code",
      "source": [
        "m43 = v.view(4, -1)\n",
        "print(m43)\n",
        "print(m43.shape)"
      ],
      "metadata": {
        "id": "4G05MbzDN2UJ"
      },
      "execution_count": null,
      "outputs": []
    },
    {
      "cell_type": "markdown",
      "metadata": {
        "id": "JF4-o8Ow-vZK"
      },
      "source": [
        "### reshape()メソッド"
      ]
    },
    {
      "cell_type": "code",
      "metadata": {
        "id": "3IsUrajfkJRC",
        "colab": {
          "base_uri": "https://localhost:8080/"
        },
        "outputId": "1efbe3fc-2ad7-49d9-f812-c993536ea928"
      },
      "source": [
        "v = torch.arange(0, 12)\n",
        "print(v)"
      ],
      "execution_count": null,
      "outputs": [
        {
          "output_type": "stream",
          "name": "stdout",
          "text": [
            "tensor([ 0,  1,  2,  3,  4,  5,  6,  7,  8,  9, 10, 11])\n"
          ]
        }
      ]
    },
    {
      "cell_type": "code",
      "metadata": {
        "id": "gY9SucFBkHCU",
        "colab": {
          "base_uri": "https://localhost:8080/"
        },
        "outputId": "0ce2460d-acb9-41f0-868d-c3a7c967e1e6"
      },
      "source": [
        "m26 = v.reshape(2, 6)\n",
        "print(m26)\n",
        "print(m26.shape)"
      ],
      "execution_count": null,
      "outputs": [
        {
          "output_type": "stream",
          "name": "stdout",
          "text": [
            "tensor([[ 0,  1,  2,  3,  4,  5],\n",
            "        [ 6,  7,  8,  9, 10, 11]])\n",
            "torch.Size([2, 6])\n"
          ]
        }
      ]
    },
    {
      "cell_type": "code",
      "source": [
        "v[0] = 10\n",
        "print(m26)"
      ],
      "metadata": {
        "id": "9HOxC_01OKJf",
        "colab": {
          "base_uri": "https://localhost:8080/"
        },
        "outputId": "d1ca073c-4db9-4ff6-b7f3-d2fa61ae7ad9"
      },
      "execution_count": null,
      "outputs": [
        {
          "output_type": "stream",
          "name": "stdout",
          "text": [
            "tensor([[10,  1,  2,  3,  4,  5],\n",
            "        [ 6,  7,  8,  9, 10, 11]])\n"
          ]
        }
      ]
    },
    {
      "cell_type": "markdown",
      "metadata": {
        "id": "49mAdtBNkqGR"
      },
      "source": [
        "### contiguousなテンソルとそうでないテンソルの違い\n",
        "* 「contiguousである」とは、テンソルとしての要素の配置の順番が、メモリ上での要素の配置の順番と一致していることを言う。\n",
        "* 例えばtメソッドは、見かけ上で転置するだけなので、その結果得られるテンソルでの要素の配置の順番は、メモリ上の要素の配置の順番と一致しなくなる。\n",
        "* contiguous()メソッドを呼ぶことで、強制的にメモリ上の要素の配置の順番を、テンソルでのそれに一致させることができる。\n",
        " * ただし、contiguous()メソッドを多用すると実行時間が伸びる。"
      ]
    },
    {
      "cell_type": "code",
      "metadata": {
        "id": "Up7birrIkmWO"
      },
      "source": [
        "print(m26.is_contiguous())"
      ],
      "execution_count": null,
      "outputs": []
    },
    {
      "cell_type": "code",
      "source": [
        "m62 = m26.t()\n",
        "print(m62)\n",
        "print(m62.is_contiguous())"
      ],
      "metadata": {
        "id": "96vsgq41ORrY"
      },
      "execution_count": null,
      "outputs": []
    },
    {
      "cell_type": "code",
      "source": [
        "m62_new = m62.contiguous()\n",
        "print(m62_new)\n",
        "print(m62_new.is_contiguous())"
      ],
      "metadata": {
        "id": "B1FsfebwOUXC"
      },
      "execution_count": null,
      "outputs": []
    },
    {
      "cell_type": "code",
      "source": [
        "m26[0, 0] = 20\n",
        "print(m26)\n",
        "print(m62)\n",
        "print(m62_new)"
      ],
      "metadata": {
        "id": "D0oHp1FIOWym"
      },
      "execution_count": null,
      "outputs": []
    },
    {
      "cell_type": "code",
      "metadata": {
        "id": "W1hBFq0PuXbq"
      },
      "source": [
        "v = torch.arange(0, 12)\n",
        "m26 = v.view(2, 6)\n",
        "print(m26)\n",
        "m34 = m26.view(3, 4)\n",
        "print(m34)"
      ],
      "execution_count": null,
      "outputs": []
    },
    {
      "cell_type": "code",
      "metadata": {
        "id": "mElojr5UmzvS"
      },
      "source": [
        "v = torch.arange(0, 12)\n",
        "m26 = v.view(2, 6)\n",
        "print(m26)\n",
        "m62 = m26.t()\n",
        "print(m62)\n",
        "m34 = m62.view(3, 4) # これはエラーになる"
      ],
      "execution_count": null,
      "outputs": []
    },
    {
      "cell_type": "code",
      "metadata": {
        "id": "ktDwmwFym__Q"
      },
      "source": [
        "v = torch.arange(0, 12)\n",
        "m26 = v.view(2, 6)\n",
        "print(m26)\n",
        "m62 = m26.t()\n",
        "print(m62)\n",
        "m34 = m62.reshape(3, 4) # reshapeではエラーにならない\n",
        "print(m34)"
      ],
      "execution_count": null,
      "outputs": []
    },
    {
      "cell_type": "code",
      "metadata": {
        "id": "AvQRiLG4m3Nq"
      },
      "source": [
        "v = torch.arange(0, 12)\n",
        "m26 = v.view(2, 6)\n",
        "print(m26)\n",
        "m62 = m26.t()\n",
        "print(m62)\n",
        "m62_new = m62.contiguous() # contiguousにしてからだと・・・\n",
        "print(m62_new)\n",
        "m34 = m62_new.view(3, 4) # エラーにならない\n",
        "print(m34)\n",
        "# 何が起こっているかはすぐ下で調べる。"
      ],
      "execution_count": null,
      "outputs": []
    },
    {
      "cell_type": "markdown",
      "metadata": {
        "id": "s8QXyEMqd3qV"
      },
      "source": [
        "### テンソルとその要素のメモリ上での配置\n",
        "* 下のリンク先が詳しい（今は無料で読めなくなっている・・・）。\n",
        " * https://livebook.manning.com/book/deep-learning-with-pytorch/chapter-3/142"
      ]
    },
    {
      "cell_type": "code",
      "metadata": {
        "id": "Kz8s7Hv_c8O5"
      },
      "source": [
        "m = torch.tensor([[4.0, 1.0], [5.0, 3.0], [2.0, 1.0]])\n",
        "print(m)\n",
        "print(m.storage())"
      ],
      "execution_count": null,
      "outputs": []
    },
    {
      "cell_type": "code",
      "metadata": {
        "id": "Pl9H1MKLdDmc"
      },
      "source": [
        "# 転置をしてもstorage()メソッドは同じ内容を返す\n",
        "m = torch.tensor([[4.0, 1.0], [5.0, 3.0], [2.0, 1.0]])\n",
        "m = m.t()\n",
        "print(m)\n",
        "print(m.storage())"
      ],
      "execution_count": null,
      "outputs": []
    },
    {
      "cell_type": "code",
      "source": [
        "# なぜreshapeではエラーが出なかったか\n",
        "v = torch.arange(0, 12)\n",
        "m26 = v.view(2, 6)\n",
        "m62 = m26.t()\n",
        "print(m62)\n",
        "print(m62.storage())\n",
        "m34 = m62.reshape(3, 4) # reshapeではエラーにならない\n",
        "print(m34)\n",
        "print(m34.storage())"
      ],
      "metadata": {
        "id": "v8_AIHqxSL32"
      },
      "execution_count": null,
      "outputs": []
    },
    {
      "cell_type": "markdown",
      "metadata": {
        "id": "kOmNOlTYouJc"
      },
      "source": [
        "## テンソルの操作"
      ]
    },
    {
      "cell_type": "markdown",
      "metadata": {
        "id": "b7x8e_cbtFQ8"
      },
      "source": [
        "### 演算"
      ]
    },
    {
      "cell_type": "code",
      "metadata": {
        "id": "1pUfEhrdtDBq",
        "colab": {
          "base_uri": "https://localhost:8080/"
        },
        "outputId": "54acfc6f-a7d7-4da3-ba2a-6072a65d5666"
      },
      "source": [
        "x = torch.rand(5, 3)\n",
        "y = torch.rand(5, 3)\n",
        "print(x)\n",
        "print(y)\n",
        "\n",
        "# 要素ごとの演算\n",
        "print(x + y)\n",
        "print(x * y)"
      ],
      "execution_count": null,
      "outputs": [
        {
          "output_type": "stream",
          "name": "stdout",
          "text": [
            "tensor([[0.9971, 0.6984, 0.5675],\n",
            "        [0.8352, 0.2056, 0.5932],\n",
            "        [0.1123, 0.1535, 0.2417],\n",
            "        [0.7262, 0.7011, 0.2038],\n",
            "        [0.6511, 0.7745, 0.4369]])\n",
            "tensor([[0.5191, 0.6159, 0.8102],\n",
            "        [0.9801, 0.1147, 0.3168],\n",
            "        [0.6965, 0.9143, 0.9351],\n",
            "        [0.9412, 0.5995, 0.0652],\n",
            "        [0.5460, 0.1872, 0.0340]])\n",
            "tensor([[1.5162, 1.3143, 1.3777],\n",
            "        [1.8153, 0.3203, 0.9099],\n",
            "        [0.8089, 1.0677, 1.1768],\n",
            "        [1.6674, 1.3006, 0.2690],\n",
            "        [1.1970, 0.9617, 0.4709]])\n",
            "tensor([[0.5176, 0.4301, 0.4598],\n",
            "        [0.8186, 0.0236, 0.1879],\n",
            "        [0.0783, 0.1403, 0.2260],\n",
            "        [0.6835, 0.4203, 0.0133],\n",
            "        [0.3555, 0.1450, 0.0149]])\n"
          ]
        }
      ]
    },
    {
      "cell_type": "markdown",
      "metadata": {
        "id": "aMNweIJMtbl0"
      },
      "source": [
        "### Indexing\n",
        "* NumPyと同じ。"
      ]
    },
    {
      "cell_type": "code",
      "metadata": {
        "id": "1Zhf3VU7taY_",
        "colab": {
          "base_uri": "https://localhost:8080/"
        },
        "outputId": "17ec3ecd-9ef6-4308-bd07-082d919db17e"
      },
      "source": [
        "x = torch.rand(5, 3)\n",
        "print(x)\n",
        "print(x[:,1])"
      ],
      "execution_count": null,
      "outputs": [
        {
          "output_type": "stream",
          "name": "stdout",
          "text": [
            "tensor([[0.9442, 0.8802, 0.0012],\n",
            "        [0.5936, 0.4158, 0.4177],\n",
            "        [0.2711, 0.6923, 0.2038],\n",
            "        [0.6833, 0.7529, 0.8579],\n",
            "        [0.6870, 0.0051, 0.1757]])\n",
            "tensor([0.8802, 0.4158, 0.6923, 0.7529, 0.0051])\n"
          ]
        }
      ]
    },
    {
      "cell_type": "markdown",
      "metadata": {
        "id": "rZzusZ3FwMir"
      },
      "source": [
        "### GPUへテンソルを持っていく\n",
        "* ランタイムのタイプをGPUへ変更してから下のセルを実行する。"
      ]
    },
    {
      "cell_type": "code",
      "metadata": {
        "id": "moakf3Hp7eId",
        "colab": {
          "base_uri": "https://localhost:8080/"
        },
        "outputId": "1f6801fe-cac4-4196-e437-72ad5b527ebe"
      },
      "source": [
        "# GPUが使える環境かどうかの確認\n",
        "torch.cuda.is_available()"
      ],
      "execution_count": null,
      "outputs": [
        {
          "output_type": "execute_result",
          "data": {
            "text/plain": [
              "True"
            ]
          },
          "metadata": {},
          "execution_count": 48
        }
      ]
    },
    {
      "cell_type": "code",
      "metadata": {
        "id": "8_1SmjbK7f9g",
        "colab": {
          "base_uri": "https://localhost:8080/"
        },
        "outputId": "95e22863-84df-4834-cec2-69c7152736b0"
      },
      "source": [
        "# GPUの取得\n",
        "device = torch.device(\"cuda\")\n",
        "print(device)"
      ],
      "execution_count": null,
      "outputs": [
        {
          "output_type": "stream",
          "name": "stdout",
          "text": [
            "cuda\n"
          ]
        }
      ]
    },
    {
      "cell_type": "code",
      "source": [
        "# GPU上にテンソルを作る\n",
        "x = torch.rand(5, 3, device=device)"
      ],
      "metadata": {
        "id": "QUirBLnTgzUk"
      },
      "execution_count": null,
      "outputs": []
    },
    {
      "cell_type": "code",
      "source": [
        "print(x)"
      ],
      "metadata": {
        "id": "5FdE5zgphFR1",
        "colab": {
          "base_uri": "https://localhost:8080/"
        },
        "outputId": "1c6825b5-1242-40f3-ed6b-a7ceea15eefb"
      },
      "execution_count": null,
      "outputs": [
        {
          "output_type": "stream",
          "name": "stdout",
          "text": [
            "tensor([[0.3990, 0.5167, 0.0249],\n",
            "        [0.9401, 0.9459, 0.7967],\n",
            "        [0.4150, 0.8203, 0.2290],\n",
            "        [0.9096, 0.1183, 0.0752],\n",
            "        [0.4092, 0.9601, 0.2093]], device='cuda:0')\n"
          ]
        }
      ]
    },
    {
      "cell_type": "code",
      "source": [
        "# CPU上で作ってからGPUへ持っていく\n",
        "y = torch.ones_like(x)\n",
        "y = y.to(device)"
      ],
      "metadata": {
        "id": "bHUE0zpVg6Pq"
      },
      "execution_count": null,
      "outputs": []
    },
    {
      "cell_type": "code",
      "source": [
        "print(y)"
      ],
      "metadata": {
        "id": "iogzRgvChH2v",
        "colab": {
          "base_uri": "https://localhost:8080/"
        },
        "outputId": "d89d4c4b-2a89-4417-aa0f-6c5d5514e2fb"
      },
      "execution_count": null,
      "outputs": [
        {
          "output_type": "stream",
          "name": "stdout",
          "text": [
            "tensor([[1., 1., 1.],\n",
            "        [1., 1., 1.],\n",
            "        [1., 1., 1.],\n",
            "        [1., 1., 1.],\n",
            "        [1., 1., 1.]], device='cuda:0')\n"
          ]
        }
      ]
    },
    {
      "cell_type": "code",
      "source": [
        "z = x + y\n",
        "print(z)"
      ],
      "metadata": {
        "id": "c15hFmdvhMDk",
        "colab": {
          "base_uri": "https://localhost:8080/"
        },
        "outputId": "bfef36fd-92cd-4518-f750-b51f0305303b"
      },
      "execution_count": null,
      "outputs": [
        {
          "output_type": "stream",
          "name": "stdout",
          "text": [
            "tensor([[1.3990, 1.5167, 1.0249],\n",
            "        [1.9401, 1.9459, 1.7967],\n",
            "        [1.4150, 1.8203, 1.2290],\n",
            "        [1.9096, 1.1183, 1.0752],\n",
            "        [1.4092, 1.9601, 1.2093]], device='cuda:0')\n"
          ]
        }
      ]
    },
    {
      "cell_type": "code",
      "source": [
        "# CPUに戻す\n",
        "w = z.cpu()\n",
        "print(w)\n",
        "print(w.dtype)"
      ],
      "metadata": {
        "id": "YZLFFVa1hQcI",
        "colab": {
          "base_uri": "https://localhost:8080/"
        },
        "outputId": "6265be7b-6557-4f6a-dad5-e29003686d9a"
      },
      "execution_count": null,
      "outputs": [
        {
          "output_type": "stream",
          "name": "stdout",
          "text": [
            "tensor([[1.3990, 1.5167, 1.0249],\n",
            "        [1.9401, 1.9459, 1.7967],\n",
            "        [1.4150, 1.8203, 1.2290],\n",
            "        [1.9096, 1.1183, 1.0752],\n",
            "        [1.4092, 1.9601, 1.2093]])\n",
            "torch.float32\n"
          ]
        }
      ]
    },
    {
      "cell_type": "code",
      "metadata": {
        "id": "UG9eEPK2wH-v",
        "colab": {
          "base_uri": "https://localhost:8080/"
        },
        "outputId": "7da2e09e-6f58-4f07-e47f-f0304836b1b2"
      },
      "source": [
        "# さらにNumPyのndarrayに変換する\n",
        "w = w.numpy()\n",
        "print(w)\n",
        "print(w.dtype) # float32になることに注意"
      ],
      "execution_count": null,
      "outputs": [
        {
          "output_type": "stream",
          "name": "stdout",
          "text": [
            "[[1.3990464 1.5166792 1.0249304]\n",
            " [1.9400795 1.9458542 1.7967312]\n",
            " [1.4150141 1.820257  1.2290434]\n",
            " [1.9095875 1.1183367 1.0752224]\n",
            " [1.4092209 1.9600675 1.2093016]]\n",
            "float32\n"
          ]
        }
      ]
    },
    {
      "cell_type": "code",
      "source": [
        "x = torch.rand(5, 3)\n",
        "y = torch.rand(5, 3).to(device)\n",
        "z = x + y # エラーになる"
      ],
      "metadata": {
        "id": "DYOiqcXIQcvP",
        "colab": {
          "base_uri": "https://localhost:8080/",
          "height": 204
        },
        "outputId": "72eb208c-46d2-4476-fa97-eaf024f135d2"
      },
      "execution_count": null,
      "outputs": [
        {
          "output_type": "error",
          "ename": "RuntimeError",
          "evalue": "ignored",
          "traceback": [
            "\u001b[0;31m---------------------------------------------------------------------------\u001b[0m",
            "\u001b[0;31mRuntimeError\u001b[0m                              Traceback (most recent call last)",
            "\u001b[0;32m<ipython-input-57-4e24fbc22c0d>\u001b[0m in \u001b[0;36m<module>\u001b[0;34m\u001b[0m\n\u001b[1;32m      1\u001b[0m \u001b[0mx\u001b[0m \u001b[0;34m=\u001b[0m \u001b[0mtorch\u001b[0m\u001b[0;34m.\u001b[0m\u001b[0mrand\u001b[0m\u001b[0;34m(\u001b[0m\u001b[0;36m5\u001b[0m\u001b[0;34m,\u001b[0m \u001b[0;36m3\u001b[0m\u001b[0;34m)\u001b[0m\u001b[0;34m\u001b[0m\u001b[0;34m\u001b[0m\u001b[0m\n\u001b[1;32m      2\u001b[0m \u001b[0my\u001b[0m \u001b[0;34m=\u001b[0m \u001b[0mtorch\u001b[0m\u001b[0;34m.\u001b[0m\u001b[0mrand\u001b[0m\u001b[0;34m(\u001b[0m\u001b[0;36m5\u001b[0m\u001b[0;34m,\u001b[0m \u001b[0;36m3\u001b[0m\u001b[0;34m)\u001b[0m\u001b[0;34m.\u001b[0m\u001b[0mto\u001b[0m\u001b[0;34m(\u001b[0m\u001b[0mdevice\u001b[0m\u001b[0;34m)\u001b[0m\u001b[0;34m\u001b[0m\u001b[0;34m\u001b[0m\u001b[0m\n\u001b[0;32m----> 3\u001b[0;31m \u001b[0mz\u001b[0m \u001b[0;34m=\u001b[0m \u001b[0mx\u001b[0m \u001b[0;34m+\u001b[0m \u001b[0my\u001b[0m \u001b[0;31m# エラーになる\u001b[0m\u001b[0;34m\u001b[0m\u001b[0;34m\u001b[0m\u001b[0m\n\u001b[0m",
            "\u001b[0;31mRuntimeError\u001b[0m: Expected all tensors to be on the same device, but found at least two devices, cuda:0 and cpu!"
          ]
        }
      ]
    },
    {
      "cell_type": "markdown",
      "metadata": {
        "id": "A-m9JrrUAbA4"
      },
      "source": [
        "## 自動微分"
      ]
    },
    {
      "cell_type": "markdown",
      "metadata": {
        "id": "aE00Ln1DA8fL"
      },
      "source": [
        "### それについて微分をする変数を作る\n",
        "* requires_gradをTrueに設定してテンソルを作る"
      ]
    },
    {
      "cell_type": "code",
      "metadata": {
        "id": "HfTNyEQIwzgX",
        "colab": {
          "base_uri": "https://localhost:8080/"
        },
        "outputId": "50bdb89f-0eb0-4452-c47e-c6eb5ab304a9"
      },
      "source": [
        "x = torch.ones(2, 2, requires_grad=True)\n",
        "print(x)\n",
        "print(x.requires_grad)"
      ],
      "execution_count": null,
      "outputs": [
        {
          "output_type": "stream",
          "name": "stdout",
          "text": [
            "tensor([[1., 1.],\n",
            "        [1., 1.]], requires_grad=True)\n",
            "True\n"
          ]
        }
      ]
    },
    {
      "cell_type": "markdown",
      "metadata": {
        "id": "4gHPbxKr-G5E"
      },
      "source": [
        "* テンソルを作った後でrequires_gradをTrueにすることもできる。"
      ]
    },
    {
      "cell_type": "code",
      "metadata": {
        "id": "2PPGEN5V-OpM",
        "colab": {
          "base_uri": "https://localhost:8080/"
        },
        "outputId": "999d5fd5-ab47-4d14-f7c7-9747e73f5fb5"
      },
      "source": [
        "a = torch.randn(2, 2)\n",
        "print(a)\n",
        "print(a.requires_grad)\n",
        "a.requires_grad = True\n",
        "print(a.requires_grad)"
      ],
      "execution_count": null,
      "outputs": [
        {
          "output_type": "stream",
          "name": "stdout",
          "text": [
            "tensor([[ 1.6254,  1.3549],\n",
            "        [-0.0112,  0.5928]])\n",
            "False\n",
            "True\n"
          ]
        }
      ]
    },
    {
      "cell_type": "markdown",
      "source": [
        "* テンソルを作った後でrequires_gradをTrueにする別の方法。"
      ],
      "metadata": {
        "id": "qE4JP23BhoQy"
      }
    },
    {
      "cell_type": "code",
      "metadata": {
        "id": "ZLdChREo90mO",
        "colab": {
          "base_uri": "https://localhost:8080/"
        },
        "outputId": "df24fd2f-d206-4868-c53f-1cadccd15536"
      },
      "source": [
        "a = torch.randn(2, 2)\n",
        "print(a)\n",
        "print(a.requires_grad)\n",
        "a.requires_grad_(True)\n",
        "print(a.requires_grad)"
      ],
      "execution_count": null,
      "outputs": [
        {
          "output_type": "stream",
          "name": "stdout",
          "text": [
            "tensor([[ 0.8067,  0.3174],\n",
            "        [-0.3674,  0.6445]])\n",
            "False\n",
            "True\n"
          ]
        }
      ]
    },
    {
      "cell_type": "markdown",
      "metadata": {
        "id": "kB_aYJRixpjj"
      },
      "source": [
        "### 計算グラフ\n",
        "* 微分できる変数を含む計算を行うと、計算グラフが作られる。"
      ]
    },
    {
      "cell_type": "code",
      "metadata": {
        "id": "g4Oo1I0Tw8j4",
        "colab": {
          "base_uri": "https://localhost:8080/"
        },
        "outputId": "c3c34e7b-55fa-437e-c1a8-ec90e53abe7a"
      },
      "source": [
        "x = torch.ones(2, 2, requires_grad=True)\n",
        "print(x)\n",
        "y = x + 2\n",
        "print(y)"
      ],
      "execution_count": null,
      "outputs": [
        {
          "output_type": "stream",
          "name": "stdout",
          "text": [
            "tensor([[1., 1.],\n",
            "        [1., 1.]], requires_grad=True)\n",
            "tensor([[3., 3.],\n",
            "        [3., 3.]], grad_fn=<AddBackward0>)\n"
          ]
        }
      ]
    },
    {
      "cell_type": "code",
      "metadata": {
        "id": "sCL6pdONxKw1",
        "colab": {
          "base_uri": "https://localhost:8080/"
        },
        "outputId": "929ade06-423a-4821-ba47-136761f9f559"
      },
      "source": [
        "x = torch.ones(2, 2, device=device, requires_grad=True)\n",
        "print(x)\n",
        "y = x * x * 4\n",
        "out = y.mean()\n",
        "print(out)"
      ],
      "execution_count": null,
      "outputs": [
        {
          "output_type": "stream",
          "name": "stdout",
          "text": [
            "tensor([[1., 1.],\n",
            "        [1., 1.]], device='cuda:0', requires_grad=True)\n",
            "tensor(4., device='cuda:0', grad_fn=<MeanBackward0>)\n"
          ]
        }
      ]
    },
    {
      "cell_type": "markdown",
      "metadata": {
        "id": "U50NxpxpxzB5"
      },
      "source": [
        "### Backpropagationの実行"
      ]
    },
    {
      "cell_type": "code",
      "metadata": {
        "id": "vLdQlh6mxxYH",
        "colab": {
          "base_uri": "https://localhost:8080/"
        },
        "outputId": "0ec9d597-d0a1-497c-95d9-0be36a2ad01c"
      },
      "source": [
        "x = torch.ones(2, 2, device=device, requires_grad=True)\n",
        "print(x)\n",
        "y = x * x * 4\n",
        "print(y)\n",
        "out = y.mean()\n",
        "print(out)\n",
        "out.backward()\n",
        "print(x.grad) # 微分係数を表示"
      ],
      "execution_count": null,
      "outputs": [
        {
          "output_type": "stream",
          "name": "stdout",
          "text": [
            "tensor([[1., 1.],\n",
            "        [1., 1.]], device='cuda:0', requires_grad=True)\n",
            "tensor([[4., 4.],\n",
            "        [4., 4.]], device='cuda:0', grad_fn=<MulBackward0>)\n",
            "tensor(4., device='cuda:0', grad_fn=<MeanBackward0>)\n",
            "tensor([[2., 2.],\n",
            "        [2., 2.]], device='cuda:0')\n"
          ]
        }
      ]
    },
    {
      "cell_type": "markdown",
      "source": [
        "$f(x_{11},x_{12},x_{21},x_{22})=(4x_{11}^2 + 4x_{12}^2+4x_{21}^2+4x_{22}^2)/4$"
      ],
      "metadata": {
        "id": "r8QFFkfRsF51"
      }
    },
    {
      "cell_type": "markdown",
      "metadata": {
        "id": "gYIC6bs8Czm-"
      },
      "source": [
        "* 注意：一度 backward() を実行すると、計算グラフは破棄される。\n",
        " * 続けて backward() を実行することはできない。"
      ]
    },
    {
      "cell_type": "markdown",
      "metadata": {
        "id": "VU2vuVxvy-Kq"
      },
      "source": [
        "### 計算グラフを作らせない"
      ]
    },
    {
      "cell_type": "markdown",
      "source": [
        "* 以下のように、計算するととにかく計算グラフが作られる。"
      ],
      "metadata": {
        "id": "LT3rWrcYiRdu"
      }
    },
    {
      "cell_type": "code",
      "metadata": {
        "id": "PFZbFjOQy8U-"
      },
      "source": [
        "x = torch.tensor(3.0, requires_grad=True)\n",
        "y = x ** 2\n",
        "print(y.requires_grad)\n",
        "y.backward()\n",
        "print(x.grad)"
      ],
      "execution_count": null,
      "outputs": []
    },
    {
      "cell_type": "markdown",
      "source": [
        "* `with torch.no_grad():`の範囲内の計算については、計算グラフは作られない。"
      ],
      "metadata": {
        "id": "ZttaKVPpiUiK"
      }
    },
    {
      "cell_type": "code",
      "metadata": {
        "id": "sT-mhBMfAXqq"
      },
      "source": [
        "x = torch.tensor(3.0, requires_grad=True)\n",
        "y = x ** 2\n",
        "with torch.no_grad():\n",
        "  z = x ** 2\n",
        "print(y.requires_grad)\n",
        "print(z.requires_grad)"
      ],
      "execution_count": null,
      "outputs": []
    },
    {
      "cell_type": "code",
      "source": [
        "z.backward() # エラーになる"
      ],
      "metadata": {
        "id": "H2XimiKEQ0rz"
      },
      "execution_count": null,
      "outputs": []
    },
    {
      "cell_type": "markdown",
      "source": [
        "* detachメソッド"
      ],
      "metadata": {
        "id": "Rejk5pDqiJlM"
      }
    },
    {
      "cell_type": "code",
      "metadata": {
        "id": "h2rDU_28zLok"
      },
      "source": [
        "x = torch.tensor(3.0, requires_grad=True)\n",
        "print(x.requires_grad)\n",
        "x = x.detach()\n",
        "print(x.requires_grad)"
      ],
      "execution_count": null,
      "outputs": []
    },
    {
      "cell_type": "code",
      "metadata": {
        "id": "BYiICIm2AT28"
      },
      "source": [
        "# f(x) = a*x**2 + b*x + cの、x=2におけるxに関する微分係数を求める\n",
        "\n",
        "x = torch.tensor(2.0, device=device, requires_grad=True)\n",
        "a = torch.tensor(1.0)\n",
        "b = torch.tensor(-2.0)\n",
        "c = torch.tensor(1.0)\n",
        "\n",
        "y = a * x ** 2 + b * x + c\n",
        "\n",
        "y.backward()\n",
        "print(x.grad)"
      ],
      "execution_count": null,
      "outputs": []
    },
    {
      "cell_type": "markdown",
      "metadata": {
        "id": "3PqN5anRXKd-"
      },
      "source": [
        "### 計算グラフの可視化"
      ]
    },
    {
      "cell_type": "code",
      "metadata": {
        "id": "UdQtGCKfWejm"
      },
      "source": [
        "!pip install torchviz"
      ],
      "execution_count": null,
      "outputs": []
    },
    {
      "cell_type": "code",
      "metadata": {
        "id": "B-LsTdNcWkp5"
      },
      "source": [
        "from torchviz import make_dot\n",
        "\n",
        "x = torch.ones(2, 2, device=device, requires_grad=True)\n",
        "x_sum = x.sum()\n",
        "a = torch.tensor(1.0)\n",
        "b = torch.tensor(-2.0)\n",
        "c = torch.tensor(1.0)\n",
        "\n",
        "y = a * x_sum ** 2 + b * x_sum + c\n",
        "make_dot(y, params={'x':x})"
      ],
      "execution_count": null,
      "outputs": []
    },
    {
      "cell_type": "markdown",
      "metadata": {
        "id": "G9RBnEz6bkT8"
      },
      "source": [
        "## autograd()を使った高階微分\n",
        "* 第一引数は微分される関数\n",
        "* 第二引数はそれに関して微分する変数\n",
        "* create_graphをTrueにすると、微分の計算をするだけでなく、計算グラフが作られる\n",
        " * すると、高階微分を計算できるようになる。"
      ]
    },
    {
      "cell_type": "markdown",
      "metadata": {
        "id": "mvwlRmblpoYh"
      },
      "source": [
        "例1. $y = ax^3 + bx^2 + cx + d$を、$x$について微分"
      ]
    },
    {
      "cell_type": "code",
      "metadata": {
        "id": "yni32jSLpgwh"
      },
      "source": [
        "x = torch.tensor(0.0, requires_grad=True)\n",
        "a = torch.tensor(1.0)\n",
        "b = torch.tensor(-2.0)\n",
        "c = torch.tensor(3.0)\n",
        "d = torch.tensor(5.0)\n",
        "y = a * x ** 3 + b * x ** 2 + c * x + d"
      ],
      "execution_count": null,
      "outputs": []
    },
    {
      "cell_type": "code",
      "metadata": {
        "id": "O7Of3KxWpz_3"
      },
      "source": [
        "dy_dx = torch.autograd.grad(y, x) #単に微分するだけ\n",
        "print(dy_dx) # 要素が一つだけのtupleになっている"
      ],
      "execution_count": null,
      "outputs": []
    },
    {
      "cell_type": "markdown",
      "metadata": {
        "id": "182AbHtyqWcm"
      },
      "source": [
        "例2. $y=x_1 x_2$を、$x_1$と$x_2$それぞれについて偏微分"
      ]
    },
    {
      "cell_type": "code",
      "metadata": {
        "id": "4d0exl5BqEYp"
      },
      "source": [
        "x1 = torch.tensor(3.0, requires_grad=True)\n",
        "x2 = torch.tensor(4.0, requires_grad=True)\n",
        "y = x1 * x2"
      ],
      "execution_count": null,
      "outputs": []
    },
    {
      "cell_type": "code",
      "metadata": {
        "id": "MTUSCu6lqxvm"
      },
      "source": [
        "dy_dx = torch.autograd.grad(y, (x1, x2)) # 単に微分するだけ\n",
        "print(dy_dx) # 要素が2つのtuple"
      ],
      "execution_count": null,
      "outputs": []
    },
    {
      "cell_type": "markdown",
      "metadata": {
        "id": "aLThUJSuqqfi"
      },
      "source": [
        "例3. $y = ax^3 + bx^2 + cx + d$を、$x$について微分し、さらにそれを$x$で微分する"
      ]
    },
    {
      "cell_type": "code",
      "metadata": {
        "id": "Byntago3q5Hl"
      },
      "source": [
        "x = torch.tensor(0.0, requires_grad=True)\n",
        "a = torch.tensor(1.0)\n",
        "b = torch.tensor(-2.0)\n",
        "c = torch.tensor(3.0)\n",
        "d = torch.tensor(5.0)\n",
        "y = a * x ** 3 + b * x ** 2 + c * x + d"
      ],
      "execution_count": null,
      "outputs": []
    },
    {
      "cell_type": "code",
      "metadata": {
        "id": "n1lr5L5SBOIj"
      },
      "source": [
        "# backpropagationの計算の計算グラフを作らせる\n",
        "dy_dx = torch.autograd.grad(y, x, create_graph=True) \n",
        "print(dy_dx)\n",
        "print(dy_dx[0])"
      ],
      "execution_count": null,
      "outputs": []
    },
    {
      "cell_type": "code",
      "source": [
        "# backpropagationの計算の計算グラフが表す関数をxで微分\n",
        "d２y_dx2 = torch.autograd.grad(dy_dx, x)\n",
        "print(d2y_dx2)\n",
        "print(d2y_dx2[0])"
      ],
      "metadata": {
        "id": "D6a79wWNRGn5"
      },
      "execution_count": null,
      "outputs": []
    },
    {
      "cell_type": "markdown",
      "metadata": {
        "id": "cZNfPAyHdpVs"
      },
      "source": [
        "### 多変数関数の偏微分とヘシアン"
      ]
    },
    {
      "cell_type": "markdown",
      "metadata": {
        "id": "7KQGlWRRrx9-"
      },
      "source": [
        "例. $y=(x_1+3x_2)^2$のヘシアンを求める"
      ]
    },
    {
      "cell_type": "code",
      "metadata": {
        "id": "13dhstNSsKi2"
      },
      "source": [
        "def func(x1, x2):\n",
        "  return (x1 + 3 * x2) ** 2\n",
        "\n",
        "x1 = torch.tensor(1.0, requires_grad=True)\n",
        "x2 = torch.tensor(2.0, requires_grad=True)\n",
        "y = func(x1, x2)"
      ],
      "execution_count": null,
      "outputs": []
    },
    {
      "cell_type": "code",
      "metadata": {
        "id": "VWrfQilec8PE"
      },
      "source": [
        "dy_dx1, dy_dx2 = torch.autograd.grad(y, [x1, x2], create_graph=True)\n",
        "print(dy_dx1.data, dy_dx2.data)"
      ],
      "execution_count": null,
      "outputs": []
    },
    {
      "cell_type": "code",
      "source": [
        "d2y_dx1dx1, d2y_dx1dx2 = torch.autograd.grad(dy_dx1, [x1, x2], retain_graph=True)\n",
        "print(d2y_dx1dx1.data, d2y_dx1dx2.data)"
      ],
      "metadata": {
        "id": "uOU5G0vdRTXP"
      },
      "execution_count": null,
      "outputs": []
    },
    {
      "cell_type": "code",
      "source": [
        "d2y_dx2dx1, d2y_dx2dx2 = torch.autograd.grad(dy_dx2, [x1, x2])\n",
        "print(d2y_dx2dx1.data, d2y_dx2dx2.data)"
      ],
      "metadata": {
        "id": "qZYOgfPaRUsJ"
      },
      "execution_count": null,
      "outputs": []
    },
    {
      "cell_type": "code",
      "metadata": {
        "id": "87kXkqNWCpCn"
      },
      "source": [
        "# 答え合わせ\n",
        "print(torch.autograd.functional.hessian(func, inputs=(x1, x2)))"
      ],
      "execution_count": null,
      "outputs": []
    },
    {
      "cell_type": "markdown",
      "metadata": {
        "id": "HkBqBy05iNM-"
      },
      "source": [
        "## 5. 自動微分を使った制約なし最適化"
      ]
    },
    {
      "cell_type": "markdown",
      "metadata": {
        "id": "jTYwK4oFsS1D"
      },
      "source": [
        "例. $f(x)=x^2-2x+1$を最小にする$x$を求める"
      ]
    },
    {
      "cell_type": "code",
      "metadata": {
        "id": "xag69ntVsdZM"
      },
      "source": [
        "# 関数の定義\n",
        "def f(x, a=1.0, b=-2.0, c=1.0):\n",
        "  return a * x ** 2 + b * x + c"
      ],
      "execution_count": null,
      "outputs": []
    },
    {
      "cell_type": "code",
      "metadata": {
        "id": "HsE2vqbKsgqi"
      },
      "source": [
        "# テンソルの準備\n",
        "x = torch.tensor(10.0, requires_grad=True)\n",
        "\n",
        "# 最適化手法のインスタンスを作る\n",
        "#   param: どの変数で微分するか\n",
        "#   lr: 学習率\n",
        "optimizer = torch.optim.SGD(params=[x], lr=0.1)"
      ],
      "execution_count": null,
      "outputs": []
    },
    {
      "cell_type": "code",
      "metadata": {
        "id": "Z8rOcDFviTVp",
        "colab": {
          "base_uri": "https://localhost:8080/"
        },
        "outputId": "6010e904-92bb-4dba-80e8-5b6cf60da796"
      },
      "source": [
        "for i in range(1, 101):\n",
        "  optimizer.zero_grad()\n",
        "  y = f(x) # 計算グラフを作る\n",
        "  y.backward()\n",
        "  optimizer.step()\n",
        "  if i % 5 == 0:\n",
        "    print(f'iter {i} : f(x) = {y.data:.6f}, x = {x.data:.6f}')"
      ],
      "execution_count": null,
      "outputs": [
        {
          "output_type": "stream",
          "name": "stdout",
          "text": [
            "iter 5 : f(x) = 13.589545, x = 3.949120\n",
            "iter 10 : f(x) = 1.459167, x = 1.966368\n",
            "iter 15 : f(x) = 0.156677, x = 1.316659\n",
            "iter 20 : f(x) = 0.016823, x = 1.103763\n",
            "iter 25 : f(x) = 0.001806, x = 1.034001\n",
            "iter 30 : f(x) = 0.000194, x = 1.011142\n",
            "iter 35 : f(x) = 0.000021, x = 1.003651\n",
            "iter 40 : f(x) = 0.000002, x = 1.001196\n",
            "iter 45 : f(x) = 0.000000, x = 1.000392\n",
            "iter 50 : f(x) = 0.000000, x = 1.000128\n",
            "iter 55 : f(x) = 0.000000, x = 1.000042\n",
            "iter 60 : f(x) = 0.000000, x = 1.000014\n",
            "iter 65 : f(x) = 0.000000, x = 1.000005\n",
            "iter 70 : f(x) = 0.000000, x = 1.000001\n",
            "iter 75 : f(x) = 0.000000, x = 1.000000\n",
            "iter 80 : f(x) = 0.000000, x = 1.000000\n",
            "iter 85 : f(x) = 0.000000, x = 1.000000\n",
            "iter 90 : f(x) = 0.000000, x = 1.000000\n",
            "iter 95 : f(x) = 0.000000, x = 1.000000\n",
            "iter 100 : f(x) = 0.000000, x = 1.000000\n"
          ]
        }
      ]
    },
    {
      "cell_type": "markdown",
      "metadata": {
        "id": "y_74bIGBkIib"
      },
      "source": [
        "# 課題4\n",
        "関数$f(x_1,x_2)=x_1^2+x_2^2$の最小値と、$f(x_1,x_2)$がその最小値をとるときの$x_1$と$x_2$の値を、PyTorchの自動微分を使って求めよう。"
      ]
    },
    {
      "cell_type": "code",
      "source": [],
      "metadata": {
        "id": "WYBNRnlmU8m1"
      },
      "execution_count": null,
      "outputs": []
    }
  ]
}