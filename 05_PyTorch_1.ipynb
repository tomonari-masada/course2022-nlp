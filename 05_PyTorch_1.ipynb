{
  "nbformat": 4,
  "nbformat_minor": 0,
  "metadata": {
    "colab": {
      "provenance": [],
      "collapsed_sections": [],
      "authorship_tag": "ABX9TyNebtyK9p07kY3dlWqojCzy",
      "include_colab_link": true
    },
    "kernelspec": {
      "name": "python3",
      "display_name": "Python 3"
    },
    "accelerator": "GPU"
  },
  "cells": [
    {
      "cell_type": "markdown",
      "metadata": {
        "id": "view-in-github",
        "colab_type": "text"
      },
      "source": [
        "<a href=\"https://colab.research.google.com/github/tomonari-masada/course2022-nlp/blob/main/05_PyTorch_1.ipynb\" target=\"_parent\"><img src=\"https://colab.research.google.com/assets/colab-badge.svg\" alt=\"Open In Colab\"/></a>"
      ]
    },
    {
      "cell_type": "markdown",
      "metadata": {
        "id": "jEY4wJjS58Uw"
      },
      "source": [
        "# PyTorch入門 (1)\n",
        "参考資料: \n",
        "* PyTorch公式のチュートリアル https://pytorch.org/tutorials/index.html"
      ]
    },
    {
      "cell_type": "markdown",
      "metadata": {
        "id": "D4eoNznm85cQ"
      },
      "source": [
        "注意:\n",
        "* ランタイムのタイプをGPUにしておいてください。\n",
        "  * 上のメニュー「ランタイム」→「ランタイムのタイプを変更」で「GPU」を選択 \n"
      ]
    },
    {
      "cell_type": "markdown",
      "source": [
        "## Reproducibility\n",
        "* 乱数のシードを設定して、実験の再現性を確保する。\n",
        " * https://pytorch.org/docs/stable/notes/randomness.html"
      ],
      "metadata": {
        "id": "if8bT5GDUHJU"
      }
    },
    {
      "cell_type": "code",
      "source": [
        "import random\n",
        "import numpy as np\n",
        "import torch\n",
        "\n",
        "random.seed(0)\n",
        "np.random.seed(0)\n",
        "torch.manual_seed(0)"
      ],
      "metadata": {
        "id": "E16ZvtoIUJtQ"
      },
      "execution_count": null,
      "outputs": []
    },
    {
      "cell_type": "markdown",
      "metadata": {
        "id": "Nb3T_6gD6Anx"
      },
      "source": [
        "## テンソル"
      ]
    },
    {
      "cell_type": "markdown",
      "metadata": {
        "id": "3FXJ5hE3qeL4"
      },
      "source": [
        "### テンソルの作り方"
      ]
    },
    {
      "cell_type": "code",
      "metadata": {
        "id": "vJm1Nbbo--oF"
      },
      "source": [
        "# 1で埋められたテンソルを作る\n",
        "x = torch.ones(2, 5)\n",
        "print(x)"
      ],
      "execution_count": null,
      "outputs": []
    },
    {
      "cell_type": "code",
      "metadata": {
        "id": "_JKj6OfJBpcv"
      },
      "source": [
        "# 要素のデータ型を確認する\n",
        "print(x.dtype)"
      ],
      "execution_count": null,
      "outputs": []
    },
    {
      "cell_type": "code",
      "metadata": {
        "id": "v2_2JQuB_Efe"
      },
      "source": [
        "# 0で埋められたテンソルを作る\n",
        "x = torch.zeros(4, 4)\n",
        "print(x)"
      ],
      "execution_count": null,
      "outputs": []
    },
    {
      "cell_type": "code",
      "metadata": {
        "id": "9yyGCRno_TXq"
      },
      "source": [
        "# 特定の値で埋められたテンソルを作る\n",
        "x = torch.full((2, 3), 3.14159)\n",
        "print(x)"
      ],
      "execution_count": null,
      "outputs": []
    },
    {
      "cell_type": "code",
      "metadata": {
        "id": "3ajeiMCeq5-y"
      },
      "source": [
        "# [0,1)の一様乱数を要素とするテンソルを作る\n",
        "x = torch.rand(5, 3)\n",
        "print(x)"
      ],
      "execution_count": null,
      "outputs": []
    },
    {
      "cell_type": "code",
      "metadata": {
        "id": "eNtphqmer-bo"
      },
      "source": [
        "# Pythonのリストからテンソルを作る\n",
        "x = torch.tensor([5.5, 3])\n",
        "print(x)"
      ],
      "execution_count": null,
      "outputs": []
    },
    {
      "cell_type": "code",
      "metadata": {
        "id": "CQD9IrR__a4O"
      },
      "source": [
        "# NumPyのndarrayからテンソルを作る\n",
        "a = np.array([1, 2, 3])\n",
        "print(a)\n",
        "t = torch.from_numpy(a)\n",
        "print(t)"
      ],
      "execution_count": null,
      "outputs": []
    },
    {
      "cell_type": "code",
      "source": [
        "# NumPyのndarrayの要素を変更するとどうなるか？\n",
        "a[0] = -1\n",
        "print(t)"
      ],
      "metadata": {
        "id": "78w5didkL3gV"
      },
      "execution_count": null,
      "outputs": []
    },
    {
      "cell_type": "code",
      "source": [
        "# テンソルのほうの要素を変更するとどうなるか?\n",
        "t[1] = -2\n",
        "print(a)"
      ],
      "metadata": {
        "id": "KYqUhYzjL5se"
      },
      "execution_count": null,
      "outputs": []
    },
    {
      "cell_type": "code",
      "metadata": {
        "id": "pZMEJU17AUMf"
      },
      "source": [
        "# cloneメソッドを使ってテンソルの複製を作る\n",
        "a = np.array([1, 2, 3])\n",
        "print(a)\n",
        "t = torch.from_numpy(a)\n",
        "print(t)\n",
        "s = t.clone()\n",
        "print(s)"
      ],
      "execution_count": null,
      "outputs": []
    },
    {
      "cell_type": "code",
      "source": [
        "s[0] = -1\n",
        "print(a)\n",
        "print(s)"
      ],
      "metadata": {
        "id": "uwP8DYB5L_j4"
      },
      "execution_count": null,
      "outputs": []
    },
    {
      "cell_type": "code",
      "source": [
        "a[1] = -2\n",
        "print(a)\n",
        "print(s)"
      ],
      "metadata": {
        "id": "Leh7S3D5MA8s"
      },
      "execution_count": null,
      "outputs": []
    },
    {
      "cell_type": "code",
      "metadata": {
        "id": "pep3TEu8DT30"
      },
      "source": [
        "# テンソルからndarrayを作る\n",
        "x = torch.ones(3,4)\n",
        "print(x)\n",
        "y = x.numpy()\n",
        "print(y)"
      ],
      "execution_count": null,
      "outputs": []
    },
    {
      "cell_type": "code",
      "source": [
        "# テンソルを変更するとどうなるか?\n",
        "x[0,0] = -1\n",
        "print(x)\n",
        "print(y)"
      ],
      "metadata": {
        "id": "1J_aN1AyMGlN"
      },
      "execution_count": null,
      "outputs": []
    },
    {
      "cell_type": "markdown",
      "metadata": {
        "id": "yH3xfOOtBXc7"
      },
      "source": [
        "### テンソルの形状を得る"
      ]
    },
    {
      "cell_type": "code",
      "metadata": {
        "id": "lGjDbafgsnc4"
      },
      "source": [
        "x = torch.zeros(5, 3) \n",
        "print(x)\n",
        "\n",
        "print(x.shape)\n",
        "print(x.size(0))\n",
        "print(x.size(1))"
      ],
      "execution_count": null,
      "outputs": []
    },
    {
      "cell_type": "markdown",
      "metadata": {
        "id": "EQmjzqTiBGSm"
      },
      "source": [
        "### 既存のテンソルから新たにテンソルを作る"
      ]
    },
    {
      "cell_type": "code",
      "metadata": {
        "id": "yRt1jFlTBT2d"
      },
      "source": [
        "# 既存のテンソルから形状を引き継いで新たにテンソルを作る\n",
        "# 要素のデータ型は変更できる\n",
        "# （randnは正規乱数の意味）\n",
        "x2 = torch.randn_like(x, dtype=torch.float)\n",
        "print(x2)"
      ],
      "execution_count": null,
      "outputs": []
    },
    {
      "cell_type": "markdown",
      "metadata": {
        "id": "q_UZIAV06aqr"
      },
      "source": [
        "### テンソルの要素のデータ型いろいろ"
      ]
    },
    {
      "cell_type": "code",
      "metadata": {
        "id": "mXv3W-9zCjn1"
      },
      "source": [
        "a = torch.tensor(1)\n",
        "print(a, a.dtype)"
      ],
      "execution_count": null,
      "outputs": []
    },
    {
      "cell_type": "code",
      "metadata": {
        "id": "JPHJ9pGa6Ra6"
      },
      "source": [
        "x = torch.tensor(2.0)\n",
        "print(x, x.dtype)\n",
        "y = torch.tensor(2.0, dtype=torch.float64)\n",
        "print(y, y.dtype)\n",
        "z = torch.tensor(2.0, dtype=torch.float16)\n",
        "print(z, z.dtype)\n"
      ],
      "execution_count": null,
      "outputs": []
    },
    {
      "cell_type": "code",
      "source": [
        "s = x + y + z\n",
        "print(s.dtype)"
      ],
      "metadata": {
        "id": "tmEF-4aoMP4L"
      },
      "execution_count": null,
      "outputs": []
    },
    {
      "cell_type": "code",
      "metadata": {
        "id": "7jIv5bx0Clps"
      },
      "source": [
        "b = torch.tensor(True)\n",
        "print(b, b.dtype)"
      ],
      "execution_count": null,
      "outputs": []
    },
    {
      "cell_type": "markdown",
      "metadata": {
        "id": "mDrafV5e74Ca"
      },
      "source": [
        "### 型の指定(1)"
      ]
    },
    {
      "cell_type": "code",
      "metadata": {
        "id": "XXFfYPSG6ZFO"
      },
      "source": [
        "a = torch.tensor(1, dtype=torch.int32)\n",
        "print(a, a.dtype)\n",
        "x = torch.tensor(2.0, dtype=torch.float)\n",
        "print(x, x.dtype)\n",
        "z = torch.tensor(2.0, dtype=torch.double)\n",
        "print(z, z.dtype)"
      ],
      "execution_count": null,
      "outputs": []
    },
    {
      "cell_type": "markdown",
      "metadata": {
        "id": "vQrL43C27wrG"
      },
      "source": [
        "### 型の指定(2)"
      ]
    },
    {
      "cell_type": "code",
      "metadata": {
        "id": "udgaTsg66syq"
      },
      "source": [
        "a = torch.IntTensor([1, 2, 3])\n",
        "print(a, a.dtype)\n",
        "x = torch.FloatTensor(np.array([2.0, -4.0]))\n",
        "print(x, x.dtype)\n",
        "y = torch.DoubleTensor([2.0, -4.0])\n",
        "print(y, y.dtype)\n",
        "b = torch.BoolTensor([1, 0, 2, 0])\n",
        "print(b, b.dtype)"
      ],
      "execution_count": null,
      "outputs": []
    },
    {
      "cell_type": "markdown",
      "metadata": {
        "id": "vxW9yw9X7jZZ"
      },
      "source": [
        "### 型の変更"
      ]
    },
    {
      "cell_type": "code",
      "metadata": {
        "id": "4fKa8r5g7C59"
      },
      "source": [
        "a = torch.tensor([1, 10])\n",
        "print(a, a.dtype)\n",
        "\n",
        "x = a.float()\n",
        "print(x, x.dtype)"
      ],
      "execution_count": null,
      "outputs": []
    },
    {
      "cell_type": "code",
      "source": [
        "y = a.type(torch.float64)\n",
        "print(y, y.dtype)"
      ],
      "metadata": {
        "id": "oc_HCb-7Mm-8"
      },
      "execution_count": null,
      "outputs": []
    },
    {
      "cell_type": "code",
      "source": [
        "z = a.type_as(x)\n",
        "print(z, z.dtype)"
      ],
      "metadata": {
        "id": "hUV0xdRcMiji"
      },
      "execution_count": null,
      "outputs": []
    },
    {
      "cell_type": "markdown",
      "metadata": {
        "id": "S5YSHzUR8E_B"
      },
      "source": [
        "### スカラーとベクトル"
      ]
    },
    {
      "cell_type": "code",
      "metadata": {
        "id": "f0KRJeiu7mE0"
      },
      "source": [
        "s = torch.tensor(1.0)\n",
        "print(s)\n",
        "print(s.dim())\n",
        "print(s.shape)"
      ],
      "execution_count": null,
      "outputs": []
    },
    {
      "cell_type": "code",
      "source": [
        "v = torch.tensor([1.0, 2.0, 3.0, 4.0])\n",
        "print(v)\n",
        "print(v.dim())\n",
        "print(v.shape)"
      ],
      "metadata": {
        "id": "99vZHSCTMtEp"
      },
      "execution_count": null,
      "outputs": []
    },
    {
      "cell_type": "code",
      "source": [
        "v = torch.tensor([4.0])\n",
        "print(v)\n",
        "print(v.dim())\n",
        "print(v.shape)"
      ],
      "metadata": {
        "id": "thA12-uLMs0g"
      },
      "execution_count": null,
      "outputs": []
    },
    {
      "cell_type": "code",
      "metadata": {
        "id": "gBuSFAnqvq4i"
      },
      "source": [
        "# 要素がひとつのテンソルから、その要素をスカラ値として取り出す\n",
        "x = torch.randn(1)\n",
        "print(x)\n",
        "print(x.item())"
      ],
      "execution_count": null,
      "outputs": []
    },
    {
      "cell_type": "markdown",
      "metadata": {
        "id": "ohAYO4Om8WmT"
      },
      "source": [
        "### 行列"
      ]
    },
    {
      "cell_type": "code",
      "metadata": {
        "id": "SrayRh_48EPA"
      },
      "source": [
        "m = torch.tensor([[1.0, 2.0], [3.0, 4.0]])\n",
        "print(m)\n",
        "print(m.dim())\n",
        "print(m.shape)\n",
        "print(m[1, 1])"
      ],
      "execution_count": null,
      "outputs": []
    },
    {
      "cell_type": "markdown",
      "metadata": {
        "id": "6XRgzduC8oID"
      },
      "source": [
        "### テンソル"
      ]
    },
    {
      "cell_type": "code",
      "metadata": {
        "id": "ZPERpt9z8YJ0"
      },
      "source": [
        "t = torch.tensor([[[1.0, 2.0], [3.0, 4.0]], [[5.0, 6.0], [7.0, 8.0]]])\n",
        "print(t)\n",
        "print(t.dim())\n",
        "print(t.shape)\n",
        "print(t[1, 1, 1])"
      ],
      "execution_count": null,
      "outputs": []
    },
    {
      "cell_type": "code",
      "metadata": {
        "id": "MW1dYvFR8qYF"
      },
      "source": [
        "t = torch.tensor([[[[1.0, 1.0], [2.0, 2.0]], [[3.0, 3.0], [4.0, 4.0]]],\n",
        "                        [[[5.0, 5.0], [6.0, 6.0]], [[7.0, 7.0], [8.0, 8.0]]]])\n",
        "print(t)\n",
        "print(t.dim())\n",
        "print(t.shape)\n",
        "print(t[1, 1, 1, 1])"
      ],
      "execution_count": null,
      "outputs": []
    },
    {
      "cell_type": "markdown",
      "metadata": {
        "id": "PZQMWS__ohwA"
      },
      "source": [
        "## 2. テンソルのビュー "
      ]
    },
    {
      "cell_type": "markdown",
      "metadata": {
        "id": "Rjqhtv-n9mM4"
      },
      "source": [
        "### view()メソッド\n",
        "* viewとreshapeについては、下記リンク先を参照。\n",
        " * https://pytorch.org/docs/stable/tensor_view.html"
      ]
    },
    {
      "cell_type": "code",
      "metadata": {
        "id": "4VNbS-gekWPb"
      },
      "source": [
        "v = torch.arange(0, 12)\n",
        "print(v)\n",
        "print(v.shape)"
      ],
      "execution_count": null,
      "outputs": []
    },
    {
      "cell_type": "code",
      "metadata": {
        "id": "D-R-5W6d9bwV"
      },
      "source": [
        "m34 = v.view(3, 4)\n",
        "print(m34)\n",
        "print(m34.shape)"
      ],
      "execution_count": null,
      "outputs": []
    },
    {
      "cell_type": "code",
      "source": [
        "v[0] = 10\n",
        "print(m34)"
      ],
      "metadata": {
        "id": "NuPP10tCOA4o"
      },
      "execution_count": null,
      "outputs": []
    },
    {
      "cell_type": "code",
      "source": [
        "m43 = v.view(4, -1)\n",
        "print(m43)\n",
        "print(m43.shape)"
      ],
      "metadata": {
        "id": "4G05MbzDN2UJ"
      },
      "execution_count": null,
      "outputs": []
    },
    {
      "cell_type": "markdown",
      "metadata": {
        "id": "JF4-o8Ow-vZK"
      },
      "source": [
        "### reshape()メソッド"
      ]
    },
    {
      "cell_type": "code",
      "metadata": {
        "id": "3IsUrajfkJRC"
      },
      "source": [
        "v = torch.arange(0, 12)\n",
        "print(v)"
      ],
      "execution_count": null,
      "outputs": []
    },
    {
      "cell_type": "code",
      "metadata": {
        "id": "gY9SucFBkHCU"
      },
      "source": [
        "m26 = v.reshape(2, 6)\n",
        "print(m26)\n",
        "print(m26.shape)"
      ],
      "execution_count": null,
      "outputs": []
    },
    {
      "cell_type": "code",
      "source": [
        "v[0] = 10\n",
        "print(m26)"
      ],
      "metadata": {
        "id": "9HOxC_01OKJf"
      },
      "execution_count": null,
      "outputs": []
    },
    {
      "cell_type": "markdown",
      "metadata": {
        "id": "49mAdtBNkqGR"
      },
      "source": [
        "### contiguousなテンソルとそうでないテンソルの違い\n",
        "* 「contiguousである」とは、テンソルとしての要素の配置の順番が、メモリ上での要素の配置の順番と一致していることを言う。\n",
        "* 例えばtメソッドは、見かけ上で転置するだけなので、その結果得られるテンソルでの要素の配置の順番は、メモリ上の要素の配置の順番と一致しなくなる。\n",
        "* contiguous()メソッドを呼ぶことで、強制的にメモリ上の要素の配置の順番を、テンソルでのそれに一致させることができる。\n",
        " * ただし、contiguous()メソッドを多用すると実行時間が伸びる。"
      ]
    },
    {
      "cell_type": "code",
      "metadata": {
        "id": "Up7birrIkmWO"
      },
      "source": [
        "print(m26.is_contiguous())"
      ],
      "execution_count": null,
      "outputs": []
    },
    {
      "cell_type": "code",
      "source": [
        "m62 = m26.t()\n",
        "print(m62)\n",
        "print(m62.is_contiguous())"
      ],
      "metadata": {
        "id": "96vsgq41ORrY"
      },
      "execution_count": null,
      "outputs": []
    },
    {
      "cell_type": "code",
      "source": [
        "m62_new = m62.contiguous()\n",
        "print(m62_new)\n",
        "print(m62_new.is_contiguous())"
      ],
      "metadata": {
        "id": "B1FsfebwOUXC"
      },
      "execution_count": null,
      "outputs": []
    },
    {
      "cell_type": "code",
      "source": [
        "m26[0, 0] = 20\n",
        "print(m26)\n",
        "print(m62)\n",
        "print(m62_new)"
      ],
      "metadata": {
        "id": "D0oHp1FIOWym"
      },
      "execution_count": null,
      "outputs": []
    },
    {
      "cell_type": "code",
      "metadata": {
        "id": "W1hBFq0PuXbq"
      },
      "source": [
        "v = torch.arange(0, 12)\n",
        "m26 = v.view(2, 6)\n",
        "print(m26)\n",
        "m34 = m26.view(3, 4)\n",
        "print(m34)"
      ],
      "execution_count": null,
      "outputs": []
    },
    {
      "cell_type": "code",
      "metadata": {
        "id": "mElojr5UmzvS"
      },
      "source": [
        "v = torch.arange(0, 12)\n",
        "m26 = v.view(2, 6)\n",
        "print(m26)\n",
        "m62 = m26.t()\n",
        "print(m62)\n",
        "m34 = m62.view(3, 4) # これはエラーになる"
      ],
      "execution_count": null,
      "outputs": []
    },
    {
      "cell_type": "code",
      "metadata": {
        "id": "ktDwmwFym__Q"
      },
      "source": [
        "v = torch.arange(0, 12)\n",
        "m26 = v.view(2, 6)\n",
        "print(m26)\n",
        "m62 = m26.t()\n",
        "print(m62)\n",
        "m34 = m62.reshape(3, 4) # reshapeではエラーにならない\n",
        "print(m34)"
      ],
      "execution_count": null,
      "outputs": []
    },
    {
      "cell_type": "code",
      "metadata": {
        "id": "AvQRiLG4m3Nq"
      },
      "source": [
        "v = torch.arange(0, 12)\n",
        "m26 = v.view(2, 6)\n",
        "print(m26)\n",
        "m62 = m26.t()\n",
        "print(m62)\n",
        "m62_new = m62.contiguous() # contiguousにしてからだと・・・\n",
        "print(m62_new)\n",
        "m34 = m62_new.view(3, 4) # エラーにならない\n",
        "print(m34)\n",
        "# 何が起こっているかはすぐ下で調べる。"
      ],
      "execution_count": null,
      "outputs": []
    },
    {
      "cell_type": "markdown",
      "metadata": {
        "id": "s8QXyEMqd3qV"
      },
      "source": [
        "### テンソルとその要素のメモリ上での配置\n",
        "* 下のリンク先が詳しい（今は無料で読めなくなっている・・・）。\n",
        " * https://livebook.manning.com/book/deep-learning-with-pytorch/chapter-3/142"
      ]
    },
    {
      "cell_type": "code",
      "metadata": {
        "id": "Kz8s7Hv_c8O5"
      },
      "source": [
        "m = torch.tensor([[4.0, 1.0], [5.0, 3.0], [2.0, 1.0]])\n",
        "print(m)\n",
        "print(m.storage())"
      ],
      "execution_count": null,
      "outputs": []
    },
    {
      "cell_type": "code",
      "metadata": {
        "id": "Pl9H1MKLdDmc"
      },
      "source": [
        "# 転置をしてもstorage()メソッドは同じ内容を返す\n",
        "m = torch.tensor([[4.0, 1.0], [5.0, 3.0], [2.0, 1.0]])\n",
        "m = m.t()\n",
        "print(m)\n",
        "print(m.storage())"
      ],
      "execution_count": null,
      "outputs": []
    },
    {
      "cell_type": "code",
      "source": [
        "# なぜreshapeではエラーが出なかったか\n",
        "v = torch.arange(0, 12)\n",
        "m26 = v.view(2, 6)\n",
        "m62 = m26.t()\n",
        "print(m62)\n",
        "print(m62.storage())\n",
        "m34 = m62.reshape(3, 4) # reshapeではエラーにならない\n",
        "print(m34)\n",
        "print(m34.storage())"
      ],
      "metadata": {
        "id": "v8_AIHqxSL32"
      },
      "execution_count": null,
      "outputs": []
    },
    {
      "cell_type": "markdown",
      "metadata": {
        "id": "kOmNOlTYouJc"
      },
      "source": [
        "## 3. テンソルの操作"
      ]
    },
    {
      "cell_type": "markdown",
      "metadata": {
        "id": "b7x8e_cbtFQ8"
      },
      "source": [
        "### 演算"
      ]
    },
    {
      "cell_type": "code",
      "metadata": {
        "id": "1pUfEhrdtDBq"
      },
      "source": [
        "x = torch.rand(5, 3)\n",
        "y = torch.rand(5, 3)\n",
        "print(x)\n",
        "print(y)\n",
        "\n",
        "# 要素ごとの演算\n",
        "print(x + y)\n",
        "print(x * y)"
      ],
      "execution_count": null,
      "outputs": []
    },
    {
      "cell_type": "markdown",
      "metadata": {
        "id": "aMNweIJMtbl0"
      },
      "source": [
        "### Indexing\n",
        "* NumPyと同じ。"
      ]
    },
    {
      "cell_type": "code",
      "metadata": {
        "id": "1Zhf3VU7taY_"
      },
      "source": [
        "x = torch.rand(5, 3)\n",
        "print(x)\n",
        "print(x[:,1])"
      ],
      "execution_count": null,
      "outputs": []
    },
    {
      "cell_type": "markdown",
      "metadata": {
        "id": "rZzusZ3FwMir"
      },
      "source": [
        "### GPUへテンソルを持っていく\n",
        "* ランタイムのタイプをGPUへ変更してから下のセルを実行する。"
      ]
    },
    {
      "cell_type": "code",
      "metadata": {
        "id": "moakf3Hp7eId"
      },
      "source": [
        "# GPUが使える環境かどうかの確認\n",
        "torch.cuda.is_available()"
      ],
      "execution_count": null,
      "outputs": []
    },
    {
      "cell_type": "code",
      "metadata": {
        "id": "8_1SmjbK7f9g"
      },
      "source": [
        "# GPUの取得\n",
        "device = torch.device(\"cuda\")\n",
        "print(device)"
      ],
      "execution_count": null,
      "outputs": []
    },
    {
      "cell_type": "code",
      "source": [
        "# GPU上にテンソルを作る\n",
        "x = torch.rand(5, 3, device=device)"
      ],
      "metadata": {
        "id": "QUirBLnTgzUk"
      },
      "execution_count": null,
      "outputs": []
    },
    {
      "cell_type": "code",
      "source": [
        "print(x)"
      ],
      "metadata": {
        "id": "5FdE5zgphFR1"
      },
      "execution_count": null,
      "outputs": []
    },
    {
      "cell_type": "code",
      "source": [
        "# CPU上で作ってからGPUへ持っていく\n",
        "y = torch.ones_like(x)\n",
        "y = y.to(device)"
      ],
      "metadata": {
        "id": "bHUE0zpVg6Pq"
      },
      "execution_count": null,
      "outputs": []
    },
    {
      "cell_type": "code",
      "source": [
        "print(y)"
      ],
      "metadata": {
        "id": "iogzRgvChH2v"
      },
      "execution_count": null,
      "outputs": []
    },
    {
      "cell_type": "code",
      "source": [
        "z = x + y\n",
        "print(z)"
      ],
      "metadata": {
        "id": "c15hFmdvhMDk"
      },
      "execution_count": null,
      "outputs": []
    },
    {
      "cell_type": "code",
      "source": [
        "# CPUに戻す\n",
        "w = z.cpu()\n",
        "print(w)\n",
        "print(w.dtype)"
      ],
      "metadata": {
        "id": "YZLFFVa1hQcI"
      },
      "execution_count": null,
      "outputs": []
    },
    {
      "cell_type": "code",
      "metadata": {
        "id": "UG9eEPK2wH-v"
      },
      "source": [
        "# さらにNumPyのndarrayに変換する\n",
        "w = w.numpy()\n",
        "print(w)\n",
        "print(w.dtype) # float32になることに注意"
      ],
      "execution_count": null,
      "outputs": []
    },
    {
      "cell_type": "code",
      "source": [
        "x = torch.rand(5, 3)\n",
        "y = torch.rand(5, 3).to(device)\n",
        "z = x + y # エラーになる"
      ],
      "metadata": {
        "id": "DYOiqcXIQcvP"
      },
      "execution_count": null,
      "outputs": []
    },
    {
      "cell_type": "markdown",
      "metadata": {
        "id": "A-m9JrrUAbA4"
      },
      "source": [
        "## 自動微分"
      ]
    },
    {
      "cell_type": "markdown",
      "metadata": {
        "id": "aE00Ln1DA8fL"
      },
      "source": [
        "### それについて微分をする変数を作る\n",
        "* requires_gradをTrueに設定してテンソルを作る"
      ]
    },
    {
      "cell_type": "code",
      "metadata": {
        "id": "HfTNyEQIwzgX"
      },
      "source": [
        "x = torch.ones(2, 2, requires_grad=True)\n",
        "print(x)\n",
        "print(x.requires_grad)"
      ],
      "execution_count": null,
      "outputs": []
    },
    {
      "cell_type": "markdown",
      "metadata": {
        "id": "4gHPbxKr-G5E"
      },
      "source": [
        "* テンソルを作った後でrequires_gradをTrueにすることもできる。"
      ]
    },
    {
      "cell_type": "code",
      "metadata": {
        "id": "2PPGEN5V-OpM"
      },
      "source": [
        "a = torch.randn(2, 2)\n",
        "print(a)\n",
        "print(a.requires_grad)\n",
        "a.requires_grad = True\n",
        "print(a.requires_grad)"
      ],
      "execution_count": null,
      "outputs": []
    },
    {
      "cell_type": "markdown",
      "source": [
        "* テンソルを作った後でrequires_gradをTrueにする別の方法。"
      ],
      "metadata": {
        "id": "qE4JP23BhoQy"
      }
    },
    {
      "cell_type": "code",
      "metadata": {
        "id": "ZLdChREo90mO"
      },
      "source": [
        "a = torch.randn(2, 2)\n",
        "print(a)\n",
        "print(a.requires_grad)\n",
        "a.requires_grad_(True)\n",
        "print(a.requires_grad)"
      ],
      "execution_count": null,
      "outputs": []
    },
    {
      "cell_type": "markdown",
      "metadata": {
        "id": "kB_aYJRixpjj"
      },
      "source": [
        "### 計算グラフ\n",
        "* 微分できる変数を含む計算を行うと、計算グラフが作られる。"
      ]
    },
    {
      "cell_type": "code",
      "metadata": {
        "id": "g4Oo1I0Tw8j4"
      },
      "source": [
        "x = torch.ones(2, 2, requires_grad=True)\n",
        "print(x)\n",
        "y = x + 2\n",
        "print(y)"
      ],
      "execution_count": null,
      "outputs": []
    },
    {
      "cell_type": "code",
      "metadata": {
        "id": "sCL6pdONxKw1"
      },
      "source": [
        "x = torch.ones(2, 2, device=device, requires_grad=True)\n",
        "print(x)\n",
        "y = x * x * 4\n",
        "out = y.mean()\n",
        "print(out)"
      ],
      "execution_count": null,
      "outputs": []
    },
    {
      "cell_type": "markdown",
      "metadata": {
        "id": "U50NxpxpxzB5"
      },
      "source": [
        "### Backpropagationの実行"
      ]
    },
    {
      "cell_type": "code",
      "metadata": {
        "id": "vLdQlh6mxxYH"
      },
      "source": [
        "x = torch.ones(2, 2, device=device, requires_grad=True)\n",
        "print(x)\n",
        "y = x * x * 4\n",
        "print(y)\n",
        "out = y.mean()\n",
        "print(out)\n",
        "out.backward()\n",
        "print(x.grad) # 微分係数を表示"
      ],
      "execution_count": null,
      "outputs": []
    },
    {
      "cell_type": "markdown",
      "metadata": {
        "id": "gYIC6bs8Czm-"
      },
      "source": [
        "* 注意：一度 backward() を実行すると、計算グラフは破棄される。\n",
        " * 続けて backward() を実行することはできない。"
      ]
    },
    {
      "cell_type": "markdown",
      "metadata": {
        "id": "VU2vuVxvy-Kq"
      },
      "source": [
        "### 計算グラフを作らせない"
      ]
    },
    {
      "cell_type": "markdown",
      "source": [
        "* 以下のように、計算するととにかく計算グラフが作られる。"
      ],
      "metadata": {
        "id": "LT3rWrcYiRdu"
      }
    },
    {
      "cell_type": "code",
      "metadata": {
        "id": "PFZbFjOQy8U-"
      },
      "source": [
        "x = torch.tensor(3.0, requires_grad=True)\n",
        "y = x ** 2\n",
        "print(y.requires_grad)\n",
        "y.backward()\n",
        "print(x.grad)"
      ],
      "execution_count": null,
      "outputs": []
    },
    {
      "cell_type": "markdown",
      "source": [
        "* `with torch.no_grad():`の範囲内の計算については、計算グラフは作られない。"
      ],
      "metadata": {
        "id": "ZttaKVPpiUiK"
      }
    },
    {
      "cell_type": "code",
      "metadata": {
        "id": "sT-mhBMfAXqq"
      },
      "source": [
        "x = torch.tensor(3.0, requires_grad=True)\n",
        "y = x ** 2\n",
        "with torch.no_grad():\n",
        "  z = x ** 2\n",
        "print(y.requires_grad)\n",
        "print(z.requires_grad)"
      ],
      "execution_count": null,
      "outputs": []
    },
    {
      "cell_type": "code",
      "source": [
        "z.backward() # エラーになる"
      ],
      "metadata": {
        "id": "H2XimiKEQ0rz"
      },
      "execution_count": null,
      "outputs": []
    },
    {
      "cell_type": "markdown",
      "source": [
        "* detachメソッド"
      ],
      "metadata": {
        "id": "Rejk5pDqiJlM"
      }
    },
    {
      "cell_type": "code",
      "metadata": {
        "id": "h2rDU_28zLok"
      },
      "source": [
        "x = torch.tensor(3.0, requires_grad=True)\n",
        "print(x.requires_grad)\n",
        "x = x.detach()\n",
        "print(x.requires_grad)"
      ],
      "execution_count": null,
      "outputs": []
    },
    {
      "cell_type": "code",
      "metadata": {
        "id": "BYiICIm2AT28"
      },
      "source": [
        "# f(x) = a*x**2 + b*x + cの、x=2におけるxに関する微分係数を求める\n",
        "\n",
        "x = torch.tensor(2.0, device=device, requires_grad=True)\n",
        "a = torch.tensor(1.0)\n",
        "b = torch.tensor(-2.0)\n",
        "c = torch.tensor(1.0)\n",
        "\n",
        "y = a * x ** 2 + b * x + c\n",
        "\n",
        "y.backward()\n",
        "print(x.grad)"
      ],
      "execution_count": null,
      "outputs": []
    },
    {
      "cell_type": "markdown",
      "metadata": {
        "id": "3PqN5anRXKd-"
      },
      "source": [
        "### 計算グラフの可視化"
      ]
    },
    {
      "cell_type": "code",
      "metadata": {
        "id": "UdQtGCKfWejm"
      },
      "source": [
        "!pip install torchviz"
      ],
      "execution_count": null,
      "outputs": []
    },
    {
      "cell_type": "code",
      "metadata": {
        "id": "B-LsTdNcWkp5"
      },
      "source": [
        "from torchviz import make_dot\n",
        "\n",
        "x = torch.ones(2, 2, device=device, requires_grad=True)\n",
        "x_sum = x.sum()\n",
        "a = torch.tensor(1.0)\n",
        "b = torch.tensor(-2.0)\n",
        "c = torch.tensor(1.0)\n",
        "\n",
        "y = a * x_sum ** 2 + b * x_sum + c\n",
        "make_dot(y, params={'x':x})"
      ],
      "execution_count": null,
      "outputs": []
    },
    {
      "cell_type": "markdown",
      "metadata": {
        "id": "G9RBnEz6bkT8"
      },
      "source": [
        "## autograd()を使った高階微分\n",
        "* 第一引数は微分される関数\n",
        "* 第二引数はそれに関して微分する変数\n",
        "* create_graphをTrueにすると、微分の計算をするだけでなく、計算グラフが作られる\n",
        " * すると、高階微分を計算できるようになる。"
      ]
    },
    {
      "cell_type": "markdown",
      "metadata": {
        "id": "mvwlRmblpoYh"
      },
      "source": [
        "例1. $y = ax^3 + bx^2 + cx + d$を、$x$について微分"
      ]
    },
    {
      "cell_type": "code",
      "metadata": {
        "id": "yni32jSLpgwh"
      },
      "source": [
        "x = torch.tensor(0.0, requires_grad=True)\n",
        "a = torch.tensor(1.0)\n",
        "b = torch.tensor(-2.0)\n",
        "c = torch.tensor(3.0)\n",
        "d = torch.tensor(5.0)\n",
        "y = a * x ** 3 + b * x ** 2 + c * x + d"
      ],
      "execution_count": null,
      "outputs": []
    },
    {
      "cell_type": "code",
      "metadata": {
        "id": "O7Of3KxWpz_3"
      },
      "source": [
        "dy_dx = torch.autograd.grad(y, x) #単に微分するだけ\n",
        "print(dy_dx) # 要素が一つだけのtupleになっている"
      ],
      "execution_count": null,
      "outputs": []
    },
    {
      "cell_type": "markdown",
      "metadata": {
        "id": "182AbHtyqWcm"
      },
      "source": [
        "例2. $y=x_1 x_2$を、$x_1$と$x_2$それぞれについて偏微分"
      ]
    },
    {
      "cell_type": "code",
      "metadata": {
        "id": "4d0exl5BqEYp"
      },
      "source": [
        "x1 = torch.tensor(3.0, requires_grad=True)\n",
        "x2 = torch.tensor(4.0, requires_grad=True)\n",
        "y = x1 * x2"
      ],
      "execution_count": null,
      "outputs": []
    },
    {
      "cell_type": "code",
      "metadata": {
        "id": "MTUSCu6lqxvm"
      },
      "source": [
        "dy_dx = torch.autograd.grad(y, (x1, x2)) # 単に微分するだけ\n",
        "print(dy_dx) # 要素が2つのtuple"
      ],
      "execution_count": null,
      "outputs": []
    },
    {
      "cell_type": "markdown",
      "metadata": {
        "id": "aLThUJSuqqfi"
      },
      "source": [
        "例3. $y = ax^3 + bx^2 + cx + d$を、$x$について微分し、さらにそれを$x$で微分する"
      ]
    },
    {
      "cell_type": "code",
      "metadata": {
        "id": "Byntago3q5Hl"
      },
      "source": [
        "x = torch.tensor(0.0, requires_grad=True)\n",
        "a = torch.tensor(1.0)\n",
        "b = torch.tensor(-2.0)\n",
        "c = torch.tensor(3.0)\n",
        "d = torch.tensor(5.0)\n",
        "y = a * x ** 3 + b * x ** 2 + c * x + d"
      ],
      "execution_count": null,
      "outputs": []
    },
    {
      "cell_type": "code",
      "metadata": {
        "id": "n1lr5L5SBOIj"
      },
      "source": [
        "# backpropagationの計算の計算グラフを作らせる\n",
        "dy_dx = torch.autograd.grad(y, x, create_graph=True) \n",
        "print(dy_dx)\n",
        "print(dy_dx[0])"
      ],
      "execution_count": null,
      "outputs": []
    },
    {
      "cell_type": "code",
      "source": [
        "# backpropagationの計算の計算グラフが表す関数をxで微分\n",
        "d２y_dx2 = torch.autograd.grad(dy_dx, x)\n",
        "print(d2y_dx2)\n",
        "print(d2y_dx2[0])"
      ],
      "metadata": {
        "id": "D6a79wWNRGn5"
      },
      "execution_count": null,
      "outputs": []
    },
    {
      "cell_type": "markdown",
      "metadata": {
        "id": "cZNfPAyHdpVs"
      },
      "source": [
        "### 多変数関数の偏微分とヘシアン"
      ]
    },
    {
      "cell_type": "markdown",
      "metadata": {
        "id": "7KQGlWRRrx9-"
      },
      "source": [
        "例. $y=(x_1+3x_2)^2$のヘシアンを求める"
      ]
    },
    {
      "cell_type": "code",
      "metadata": {
        "id": "13dhstNSsKi2"
      },
      "source": [
        "def func(x1, x2):\n",
        "  return (x1 + 3 * x2) ** 2\n",
        "\n",
        "x1 = torch.tensor(1.0, requires_grad=True)\n",
        "x2 = torch.tensor(2.0, requires_grad=True)\n",
        "y = func(x1, x2)"
      ],
      "execution_count": null,
      "outputs": []
    },
    {
      "cell_type": "code",
      "metadata": {
        "id": "VWrfQilec8PE"
      },
      "source": [
        "dy_dx1, dy_dx2 = torch.autograd.grad(y, [x1, x2], create_graph=True)\n",
        "print(dy_dx1.data, dy_dx2.data)"
      ],
      "execution_count": null,
      "outputs": []
    },
    {
      "cell_type": "code",
      "source": [
        "d2y_dx1dx1, d2y_dx1dx2 = torch.autograd.grad(dy_dx1, [x1, x2], retain_graph=True)\n",
        "print(d2y_dx1dx1.data, d2y_dx1dx2.data)"
      ],
      "metadata": {
        "id": "uOU5G0vdRTXP"
      },
      "execution_count": null,
      "outputs": []
    },
    {
      "cell_type": "code",
      "source": [
        "d2y_dx2dx1, d2y_dx2dx2 = torch.autograd.grad(dy_dx2, [x1, x2])\n",
        "print(d2y_dx2dx1.data, d2y_dx2dx2.data)"
      ],
      "metadata": {
        "id": "qZYOgfPaRUsJ"
      },
      "execution_count": null,
      "outputs": []
    },
    {
      "cell_type": "code",
      "metadata": {
        "id": "87kXkqNWCpCn"
      },
      "source": [
        "# 答え合わせ\n",
        "print(torch.autograd.functional.hessian(func, inputs=(x1, x2)))"
      ],
      "execution_count": null,
      "outputs": []
    },
    {
      "cell_type": "markdown",
      "metadata": {
        "id": "HkBqBy05iNM-"
      },
      "source": [
        "## 5. 自動微分を使った制約なし最適化"
      ]
    },
    {
      "cell_type": "markdown",
      "metadata": {
        "id": "jTYwK4oFsS1D"
      },
      "source": [
        "例. $f(x)=x^2-2x+1$を最小にする$x$を求める"
      ]
    },
    {
      "cell_type": "code",
      "metadata": {
        "id": "xag69ntVsdZM"
      },
      "source": [
        "# 関数の定義\n",
        "def f(x, a=1.0, b=-2.0, c=1.0):\n",
        "  return a * x ** 2 + b * x + c"
      ],
      "execution_count": null,
      "outputs": []
    },
    {
      "cell_type": "code",
      "metadata": {
        "id": "HsE2vqbKsgqi"
      },
      "source": [
        "# テンソルの準備\n",
        "x = torch.tensor(10.0, requires_grad=True)\n",
        "\n",
        "# 最適化手法のインスタンスを作る\n",
        "#   param: どの変数で微分するか\n",
        "#   lr: 学習率\n",
        "optimizer = torch.optim.SGD(params=[x], lr=0.1)"
      ],
      "execution_count": null,
      "outputs": []
    },
    {
      "cell_type": "code",
      "metadata": {
        "id": "Z8rOcDFviTVp"
      },
      "source": [
        "for i in range(1, 101):\n",
        "  optimizer.zero_grad()\n",
        "  y = f(x)\n",
        "  y.backward()\n",
        "  optimizer.step()\n",
        "  if i % 5 == 0:\n",
        "    print(f'iter {i} : f(x) = {y.data:.6f}, x = {x.data:.6f}')"
      ],
      "execution_count": null,
      "outputs": []
    },
    {
      "cell_type": "markdown",
      "metadata": {
        "id": "y_74bIGBkIib"
      },
      "source": [
        "# 課題4\n",
        "関数$f(x_1,x_2)=x_1^2+x_2^2$の最小値と、$f(x_1,x_2)$がその最小値をとるときの$x_1$と$x_2$の値を、PyTorchの自動微分を使って求めよう。"
      ]
    },
    {
      "cell_type": "code",
      "source": [],
      "metadata": {
        "id": "WYBNRnlmU8m1"
      },
      "execution_count": null,
      "outputs": []
    }
  ]
}