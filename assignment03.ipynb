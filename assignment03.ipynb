{
  "nbformat": 4,
  "nbformat_minor": 0,
  "metadata": {
    "colab": {
      "provenance": [],
      "collapsed_sections": [],
      "mount_file_id": "1Nfp5tfEIi-WEFZ0MFHyz1QM6rI3cxF3-",
      "authorship_tag": "ABX9TyMMSaUExDmnBgI57U0syxNJ",
      "include_colab_link": true
    },
    "kernelspec": {
      "name": "python3",
      "display_name": "Python 3"
    },
    "language_info": {
      "name": "python"
    }
  },
  "cells": [
    {
      "cell_type": "markdown",
      "metadata": {
        "id": "view-in-github",
        "colab_type": "text"
      },
      "source": [
        "<a href=\"https://colab.research.google.com/github/tomonari-masada/course2022-nlp/blob/main/assignment03.ipynb\" target=\"_parent\"><img src=\"https://colab.research.google.com/assets/colab-badge.svg\" alt=\"Open In Colab\"/></a>"
      ]
    },
    {
      "cell_type": "markdown",
      "metadata": {
        "id": "Y9RRllRm7o6a"
      },
      "source": [
        "# 課題3\n",
        "* 春学期に習った分類手法を使って、IMDbデータセットの感情分析をしてみよう。\n",
        " * training set / test setの分割は、そのまま使う。\n",
        " * training setをどのように使うかはお任せします。（交差検証など。）\n",
        " * test setでの分類性能をArea under the ROC curveで報告。"
      ]
    },
    {
      "cell_type": "markdown",
      "source": [
        "## Intel® Extension for Scikit-learnを使ってみる\n",
        "* scikit-learnが高速化されるらしいです。\n",
        " * https://intel.github.io/scikit-learn-intelex/"
      ],
      "metadata": {
        "id": "IF7aKyWfi-Re"
      }
    },
    {
      "cell_type": "code",
      "source": [
        "!pip install scikit-learn-intelex"
      ],
      "metadata": {
        "colab": {
          "base_uri": "https://localhost:8080/"
        },
        "id": "icKxD1-FiD3S",
        "outputId": "1461cb62-275e-42a0-c47e-fde06ec1fe55"
      },
      "execution_count": 1,
      "outputs": [
        {
          "output_type": "stream",
          "name": "stdout",
          "text": [
            "Looking in indexes: https://pypi.org/simple, https://us-python.pkg.dev/colab-wheels/public/simple/\n",
            "Collecting scikit-learn-intelex\n",
            "  Downloading scikit_learn_intelex-2021.6.3-py37-none-manylinux1_x86_64.whl (87 kB)\n",
            "\u001b[K     |████████████████████████████████| 87 kB 3.6 MB/s \n",
            "\u001b[?25hCollecting daal4py==2021.6.3\n",
            "  Downloading daal4py-2021.6.3-py37-none-manylinux1_x86_64.whl (26.0 MB)\n",
            "\u001b[K     |████████████████████████████████| 26.0 MB 75.9 MB/s \n",
            "\u001b[?25hRequirement already satisfied: scikit-learn>=0.22 in /usr/local/lib/python3.7/dist-packages (from scikit-learn-intelex) (1.0.2)\n",
            "Collecting daal==2021.6.0\n",
            "  Downloading daal-2021.6.0-py2.py3-none-manylinux1_x86_64.whl (300.3 MB)\n",
            "\u001b[K     |████████████████████████████████| 300.3 MB 18 kB/s \n",
            "\u001b[?25hRequirement already satisfied: numpy>=1.15 in /usr/local/lib/python3.7/dist-packages (from daal4py==2021.6.3->scikit-learn-intelex) (1.21.6)\n",
            "Collecting tbb==2021.*\n",
            "  Downloading tbb-2021.7.1-py2.py3-none-manylinux1_x86_64.whl (4.0 MB)\n",
            "\u001b[K     |████████████████████████████████| 4.0 MB 41.5 MB/s \n",
            "\u001b[?25hRequirement already satisfied: scipy>=1.1.0 in /usr/local/lib/python3.7/dist-packages (from scikit-learn>=0.22->scikit-learn-intelex) (1.7.3)\n",
            "Requirement already satisfied: threadpoolctl>=2.0.0 in /usr/local/lib/python3.7/dist-packages (from scikit-learn>=0.22->scikit-learn-intelex) (3.1.0)\n",
            "Requirement already satisfied: joblib>=0.11 in /usr/local/lib/python3.7/dist-packages (from scikit-learn>=0.22->scikit-learn-intelex) (1.2.0)\n",
            "Installing collected packages: tbb, daal, daal4py, scikit-learn-intelex\n",
            "Successfully installed daal-2021.6.0 daal4py-2021.6.3 scikit-learn-intelex-2021.6.3 tbb-2021.7.1\n"
          ]
        }
      ]
    },
    {
      "cell_type": "code",
      "source": [
        "from sklearnex import patch_sklearn\n",
        "patch_sklearn()"
      ],
      "metadata": {
        "colab": {
          "base_uri": "https://localhost:8080/"
        },
        "id": "qQEXt5rliLxI",
        "outputId": "5a84ad73-caac-4eb1-e11c-51792db9f88a"
      },
      "execution_count": 2,
      "outputs": [
        {
          "output_type": "stream",
          "name": "stderr",
          "text": [
            "Intel(R) Extension for Scikit-learn* enabled (https://github.com/intel/scikit-learn-intelex)\n"
          ]
        }
      ]
    },
    {
      "cell_type": "code",
      "source": [
        "import numpy as np\n",
        "\n",
        "from sklearn.feature_extraction.text import TfidfVectorizer\n",
        "from sklearn.model_selection import cross_val_score\n",
        "from sklearn.metrics import roc_auc_score, RocCurveDisplay\n",
        "\n",
        "# 機械学習のモデルはsklearnexのものを使う\n",
        "from sklearnex.linear_model import LogisticRegression\n",
        "\n",
        "%config InlineBackend.figure_formats = {'png', 'retina'}\n",
        "\n",
        "random_state = np.random.RandomState(0)"
      ],
      "metadata": {
        "id": "BgNFZEPtlSIe"
      },
      "execution_count": 3,
      "outputs": []
    },
    {
      "cell_type": "markdown",
      "source": [
        "## fasttextで文書をベクトル化した場合"
      ],
      "metadata": {
        "id": "lUHXOtXXwmpI"
      }
    },
    {
      "cell_type": "markdown",
      "source": [
        "### データファイルを読む\n",
        "* 事前にfasttextの単語ベクトルを使って各文書をembedしたデータ。"
      ],
      "metadata": {
        "id": "Ptn33L1rlpIA"
      }
    },
    {
      "cell_type": "code",
      "metadata": {
        "id": "oYz8ha5p5AkG"
      },
      "source": [
        "PATH = '/content/drive/MyDrive/2022Courses/nlp/imdb/'\n",
        "\n",
        "texts = dict()\n",
        "labels = dict()\n",
        "for tag in ['train', 'test']:\n",
        "  with open(f'{PATH}{tag}.npy', 'rb') as f:\n",
        "    texts[tag] = np.load(f)\n",
        "  with open(f'{PATH}{tag}_labels.npy', 'rb') as f:\n",
        "    labels[tag] = np.load(f)"
      ],
      "execution_count": 4,
      "outputs": []
    },
    {
      "cell_type": "markdown",
      "source": [
        "### モデルのチューニング\n",
        "* ロジスティック回帰を分類モデルとして使う。\n",
        "* 正則化パラメータを交差検証でチューニングする。"
      ],
      "metadata": {
        "id": "N_yv3G_RjJKA"
      }
    },
    {
      "cell_type": "code",
      "metadata": {
        "id": "hkq9VlVI5XVm",
        "colab": {
          "base_uri": "https://localhost:8080/"
        },
        "outputId": "939a1762-e201-4140-d84a-3907592decba"
      },
      "source": [
        "for C in [0.1, 1, 10, 100]:\n",
        "  classifier = LogisticRegression(C=C, random_state=random_state, max_iter=1000)\n",
        "  roc_auc = cross_val_score(classifier, texts['train'], labels['train'], cv=5, scoring='roc_auc').mean()\n",
        "  print(f'C={C} | roc auc : {roc_auc:.4f}')"
      ],
      "execution_count": 5,
      "outputs": [
        {
          "output_type": "stream",
          "name": "stdout",
          "text": [
            "C=0.1 | roc auc : 0.7991\n",
            "C=1 | roc auc : 0.8887\n",
            "C=10 | roc auc : 0.9196\n",
            "C=100 | roc auc : 0.9298\n"
          ]
        }
      ]
    },
    {
      "cell_type": "code",
      "metadata": {
        "id": "9ZHOqHc0AZoq",
        "colab": {
          "base_uri": "https://localhost:8080/"
        },
        "outputId": "3e90998e-b450-49fa-feb4-10c9cef8932c"
      },
      "source": [
        "for C in [200, 500, 1000]:\n",
        "  classifier = LogisticRegression(C=C, random_state=random_state, max_iter=1000)\n",
        "  roc_auc = cross_val_score(classifier, texts['train'], labels['train'], cv=5, scoring='roc_auc').mean()\n",
        "  print(f'C={C} | roc auc : {roc_auc:.4f}')"
      ],
      "execution_count": 6,
      "outputs": [
        {
          "output_type": "stream",
          "name": "stdout",
          "text": [
            "C=200 | roc auc : 0.9302\n",
            "C=500 | roc auc : 0.9302\n",
            "C=1000 | roc auc : 0.9300\n"
          ]
        }
      ]
    },
    {
      "cell_type": "markdown",
      "source": [
        "### テストセット上で評価"
      ],
      "metadata": {
        "id": "OOZXUfX4jUbB"
      }
    },
    {
      "cell_type": "code",
      "metadata": {
        "id": "sP5RYE35-NPV",
        "colab": {
          "base_uri": "https://localhost:8080/"
        },
        "outputId": "3f778519-51d9-4e01-abf2-71af5bbea13e"
      },
      "source": [
        "classifier = LogisticRegression(C=200, random_state=random_state, max_iter=1000)\n",
        "classifier.fit(texts['train'], labels['train'])\n",
        "print(f\"test roc auc : {roc_auc_score(labels['test'], classifier.predict_proba(texts['test'])[:, 1]):.4f}\")"
      ],
      "execution_count": 7,
      "outputs": [
        {
          "output_type": "stream",
          "name": "stdout",
          "text": [
            "test roc auc : 0.9297\n"
          ]
        }
      ]
    },
    {
      "cell_type": "markdown",
      "source": [
        "### ROC curveを描く"
      ],
      "metadata": {
        "id": "lHi29EHkwbOu"
      }
    },
    {
      "cell_type": "code",
      "source": [
        "RocCurveDisplay.from_estimator(classifier, texts[\"test\"], labels[\"test\"]);"
      ],
      "metadata": {
        "colab": {
          "base_uri": "https://localhost:8080/",
          "height": 278
        },
        "id": "TXWeY3ALwXs5",
        "outputId": "79d37ca8-494c-478c-befd-c1cd170dff46"
      },
      "execution_count": 8,
      "outputs": [
        {
          "output_type": "display_data",
          "data": {
            "text/plain": [
              "<Figure size 432x288 with 1 Axes>"
            ],
            "image/png": "[encoded data removed]"
          },
          "metadata": {
            "image/png": {
              "width": 385,
              "height": 261
            },
            "needs_background": "light"
          }
        }
      ]
    },
    {
      "cell_type": "markdown",
      "metadata": {
        "id": "niDKYtxX7xjh"
      },
      "source": [
        "## TF-IDFで文書をベクトル化した場合"
      ]
    },
    {
      "cell_type": "markdown",
      "metadata": {
        "id": "MzDBUuft740f"
      },
      "source": [
        "* IMDbデータセットのテキストを取得し直す"
      ]
    },
    {
      "cell_type": "code",
      "metadata": {
        "id": "nE19fVExodCB",
        "colab": {
          "base_uri": "https://localhost:8080/"
        },
        "outputId": "21bd5b66-0539-43c2-83f7-3bdc036c605a"
      },
      "source": [
        "!pip install ml_datasets"
      ],
      "execution_count": 9,
      "outputs": [
        {
          "output_type": "stream",
          "name": "stdout",
          "text": [
            "Looking in indexes: https://pypi.org/simple, https://us-python.pkg.dev/colab-wheels/public/simple/\n",
            "Collecting ml_datasets\n",
            "  Downloading ml_datasets-0.2.0-py3-none-any.whl (15 kB)\n",
            "Requirement already satisfied: numpy>=1.7.0 in /usr/local/lib/python3.7/dist-packages (from ml_datasets) (1.21.6)\n",
            "Requirement already satisfied: srsly<3.0.0,>=1.0.1 in /usr/local/lib/python3.7/dist-packages (from ml_datasets) (2.4.5)\n",
            "Requirement already satisfied: tqdm<5.0.0,>=4.10.0 in /usr/local/lib/python3.7/dist-packages (from ml_datasets) (4.64.1)\n",
            "Requirement already satisfied: catalogue<3.0.0,>=0.2.0 in /usr/local/lib/python3.7/dist-packages (from ml_datasets) (2.0.8)\n",
            "Requirement already satisfied: zipp>=0.5 in /usr/local/lib/python3.7/dist-packages (from catalogue<3.0.0,>=0.2.0->ml_datasets) (3.10.0)\n",
            "Requirement already satisfied: typing-extensions>=3.6.4 in /usr/local/lib/python3.7/dist-packages (from catalogue<3.0.0,>=0.2.0->ml_datasets) (4.1.1)\n",
            "Installing collected packages: ml-datasets\n",
            "Successfully installed ml-datasets-0.2.0\n"
          ]
        }
      ]
    },
    {
      "cell_type": "code",
      "metadata": {
        "id": "6PwDXpxRofvg",
        "colab": {
          "base_uri": "https://localhost:8080/"
        },
        "outputId": "d0941e05-c975-4ff3-8bed-cb86ea1a1997"
      },
      "source": [
        "from ml_datasets import imdb\n",
        "train_data, test_data = imdb()"
      ],
      "execution_count": 10,
      "outputs": [
        {
          "output_type": "stream",
          "name": "stderr",
          "text": [
            "84131840it [00:03, 25101497.19it/s]                              \n"
          ]
        },
        {
          "output_type": "stream",
          "name": "stdout",
          "text": [
            "Untaring file...\n"
          ]
        }
      ]
    },
    {
      "cell_type": "code",
      "metadata": {
        "id": "jHmrEISEojkN"
      },
      "source": [
        "train_texts, train_labels = zip(*train_data)\n",
        "test_texts, test_labels = zip(*test_data)"
      ],
      "execution_count": 11,
      "outputs": []
    },
    {
      "cell_type": "code",
      "metadata": {
        "id": "KUKNEJxToxTp"
      },
      "source": [
        "vectorizer = TfidfVectorizer(min_df=10, max_df=0.2)\n",
        "X_train = vectorizer.fit_transform(train_texts)\n",
        "X_test = vectorizer.transform(test_texts)"
      ],
      "execution_count": 12,
      "outputs": []
    },
    {
      "cell_type": "code",
      "metadata": {
        "id": "G1P6P2ucpREp",
        "colab": {
          "base_uri": "https://localhost:8080/"
        },
        "outputId": "2182631e-b853-45bc-944a-dd3ac0f67176"
      },
      "source": [
        "print(X_train.shape, X_test.shape)"
      ],
      "execution_count": 13,
      "outputs": [
        {
          "output_type": "stream",
          "name": "stdout",
          "text": [
            "(25000, 18417) (25000, 18417)\n"
          ]
        }
      ]
    },
    {
      "cell_type": "code",
      "metadata": {
        "id": "fQ-spnUOo2Fo",
        "colab": {
          "base_uri": "https://localhost:8080/"
        },
        "outputId": "d8d92692-4065-45b6-d905-fcd84692643a"
      },
      "source": [
        "for C in [0.01, 0.1, 1, 10]:\n",
        "  classifier = LogisticRegression(C=C, random_state=random_state, max_iter=1000)\n",
        "  mean_roc_auc = cross_val_score(classifier, X_train, train_labels, cv=5, scoring='roc_auc').mean()\n",
        "  print(f'C={C} | roc auc : {roc_auc:.4f}')"
      ],
      "execution_count": 14,
      "outputs": [
        {
          "output_type": "stream",
          "name": "stdout",
          "text": [
            "C=0.01 | roc auc : 0.9300\n",
            "C=0.1 | roc auc : 0.9300\n",
            "C=1 | roc auc : 0.9300\n",
            "C=10 | roc auc : 0.9300\n"
          ]
        }
      ]
    },
    {
      "cell_type": "code",
      "metadata": {
        "id": "rd9Gl-tBDPt2",
        "colab": {
          "base_uri": "https://localhost:8080/"
        },
        "outputId": "e79c4637-79ef-4b8f-bc30-c1f76788dc4a"
      },
      "source": [
        "for C in [100, 200]:\n",
        "  classifier = LogisticRegression(C=C, random_state=random_state, max_iter=1000)\n",
        "  mean_roc_auc = cross_val_score(classifier, X_train, train_labels, cv=5, scoring='roc_auc').mean()\n",
        "  print(f'C={C} | roc auc : {roc_auc:.4f}')"
      ],
      "execution_count": 15,
      "outputs": [
        {
          "output_type": "stream",
          "name": "stdout",
          "text": [
            "C=100 | roc auc : 0.9300\n",
            "C=200 | roc auc : 0.9300\n"
          ]
        }
      ]
    },
    {
      "cell_type": "code",
      "metadata": {
        "id": "02n8jW8CsT7N",
        "colab": {
          "base_uri": "https://localhost:8080/"
        },
        "outputId": "88162913-d716-4a32-fb29-cc851dbb36a8"
      },
      "source": [
        "classifier = LogisticRegression(random_state=random_state, max_iter=1000)\n",
        "classifier.fit(X_train, train_labels)\n",
        "print(f\"test roc auc : {roc_auc_score(test_labels, classifier.predict_proba(X_test)[:, 1]):.4f}\")"
      ],
      "execution_count": 16,
      "outputs": [
        {
          "output_type": "stream",
          "name": "stdout",
          "text": [
            "test roc auc : 0.9494\n"
          ]
        },
        {
          "output_type": "stream",
          "name": "stderr",
          "text": [
            "/usr/local/lib/python3.7/dist-packages/numpy/core/numeric.py:2446: FutureWarning: elementwise comparison failed; returning scalar instead, but in the future will perform elementwise comparison\n",
            "  return bool(asarray(a1 == a2).all())\n"
          ]
        }
      ]
    },
    {
      "cell_type": "code",
      "metadata": {
        "id": "4-hCFybJDrPx",
        "colab": {
          "base_uri": "https://localhost:8080/",
          "height": 278
        },
        "outputId": "74e290aa-440c-41ed-8b3d-efee3efe961e"
      },
      "source": [
        "RocCurveDisplay.from_estimator(classifier, X_test, test_labels);"
      ],
      "execution_count": 17,
      "outputs": [
        {
          "output_type": "display_data",
          "data": {
            "text/plain": [
              "<Figure size 432x288 with 1 Axes>"
            ],
            "image/png": "[encoded data removed]"
          },
          "metadata": {
            "image/png": {
              "width": 385,
              "height": 261
            },
            "needs_background": "light"
          }
        }
      ]
    }
  ]
}